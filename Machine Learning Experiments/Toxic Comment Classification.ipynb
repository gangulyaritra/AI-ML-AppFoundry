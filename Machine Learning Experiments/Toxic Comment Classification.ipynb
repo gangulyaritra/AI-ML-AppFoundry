{
  "nbformat": 4,
  "nbformat_minor": 0,
  "metadata": {
    "colab": {
      "provenance": []
    },
    "kernelspec": {
      "name": "python3",
      "display_name": "Python 3"
    },
    "language_info": {
      "name": "python"
    },
    "accelerator": "TPU",
    "gpuClass": "standard"
  },
  "cells": [
    {
      "cell_type": "markdown",
      "source": [
        "# **Toxic Comment Classification Challenge**\n",
        "\n",
        "Identify and classify toxic online comments.\n",
        "\n",
        "> [**Kaggle Dataset**](https://www.kaggle.com/c/jigsaw-toxic-comment-classification-challenge)"
      ],
      "metadata": {
        "id": "B3_SqXXLtZVS"
      }
    },
    {
      "cell_type": "code",
      "execution_count": null,
      "metadata": {
        "id": "6wkFwBrhsqa9"
      },
      "outputs": [],
      "source": [
        "# Install Kaggle.\n",
        "!pip install --upgrade --force-reinstall --no-deps kaggle"
      ]
    },
    {
      "cell_type": "code",
      "source": [
        "# Files Upload.\n",
        "from google.colab import files\n",
        "\n",
        "files.upload()"
      ],
      "metadata": {
        "id": "lYALCy1AtBLN"
      },
      "execution_count": null,
      "outputs": []
    },
    {
      "cell_type": "code",
      "source": [
        "# Create a Kaggle Folder.\n",
        "!mkdir ~/.kaggle\n",
        "\n",
        "# Copy the kaggle.json to the folder created.\n",
        "!cp kaggle.json ~/.kaggle/\n",
        "\n",
        "# Permission for the json file to act.\n",
        "!chmod 600 ~/.kaggle/kaggle.json\n",
        "\n",
        "# List all datasets in Kaggle.\n",
        "!kaggle datasets list"
      ],
      "metadata": {
        "id": "5IuFbP5ZtFvh"
      },
      "execution_count": null,
      "outputs": []
    },
    {
      "cell_type": "code",
      "source": [
        "# Dataset Download.\n",
        "!kaggle competitions download -c jigsaw-toxic-comment-classification-challenge"
      ],
      "metadata": {
        "id": "Ato0wJqotIh7"
      },
      "execution_count": null,
      "outputs": []
    },
    {
      "cell_type": "code",
      "source": [
        "# Unzip Dataset.\n",
        "!unzip jigsaw-toxic-comment-classification-challenge.zip"
      ],
      "metadata": {
        "id": "VZzhQoYctK4a"
      },
      "execution_count": null,
      "outputs": []
    },
    {
      "cell_type": "code",
      "source": [
        "# Unzip all Files.\n",
        "!unzip sample_submission.csv.zip\n",
        "!unzip test.csv.zip\n",
        "!unzip test_labels.csv.zip\n",
        "!unzip train.csv.zip"
      ],
      "metadata": {
        "id": "m-bipmcBtMxy"
      },
      "execution_count": null,
      "outputs": []
    },
    {
      "cell_type": "markdown",
      "source": [
        "## **Toxic Comment Classification using BERT.**"
      ],
      "metadata": {
        "id": "WZw8OF0cupCT"
      }
    },
    {
      "cell_type": "code",
      "source": [
        "!pip install transformers\n",
        "!pip install bert-tensorflow"
      ],
      "metadata": {
        "id": "wba88T6cyW3A"
      },
      "execution_count": null,
      "outputs": []
    },
    {
      "cell_type": "code",
      "source": [
        "# Import Library.\n",
        "import pandas as pd\n",
        "import numpy as np\n",
        "import re, string\n",
        "from tqdm import tqdm\n",
        "import seaborn as sns\n",
        "\n",
        "%config InlineBackend.figure_format = \"retina\"\n",
        "sns.set()\n",
        "import warnings\n",
        "\n",
        "warnings.filterwarnings(\"ignore\")\n",
        "\n",
        "import tensorflow as tf\n",
        "from tensorflow.keras.layers import Dense, Input, Dropout\n",
        "from tensorflow.keras.optimizers import Adam\n",
        "from tensorflow.keras.models import Model\n",
        "from tensorflow.keras.callbacks import EarlyStopping, ModelCheckpoint, ReduceLROnPlateau\n",
        "import transformers, bert.tokenization\n",
        "from tokenizers import BertWordPieceTokenizer"
      ],
      "metadata": {
        "id": "5wJ_jninuvej"
      },
      "execution_count": null,
      "outputs": []
    },
    {
      "cell_type": "code",
      "source": [
        "# Load Dataset.\n",
        "train = pd.read_csv(\"train.csv\")\n",
        "test = pd.read_csv(\"test.csv\")\n",
        "\n",
        "train.head()"
      ],
      "metadata": {
        "id": "OCDBSSh8ydnP",
        "colab": {
          "base_uri": "https://localhost:8080/",
          "height": 206
        },
        "outputId": "d33e7434-f841-41ef-92ba-3b308246e480"
      },
      "execution_count": null,
      "outputs": [
        {
          "output_type": "execute_result",
          "data": {
            "text/plain": [
              "                 id                                       comment_text  toxic  \\\n",
              "0  0000997932d777bf  Explanation\\nWhy the edits made under my usern...      0   \n",
              "1  000103f0d9cfb60f  D'aww! He matches this background colour I'm s...      0   \n",
              "2  000113f07ec002fd  Hey man, I'm really not trying to edit war. It...      0   \n",
              "3  0001b41b1c6bb37e  \"\\nMore\\nI can't make any real suggestions on ...      0   \n",
              "4  0001d958c54c6e35  You, sir, are my hero. Any chance you remember...      0   \n",
              "\n",
              "   severe_toxic  obscene  threat  insult  identity_hate  \n",
              "0             0        0       0       0              0  \n",
              "1             0        0       0       0              0  \n",
              "2             0        0       0       0              0  \n",
              "3             0        0       0       0              0  \n",
              "4             0        0       0       0              0  "
            ],
            "text/html": [
              "\n",
              "  <div id=\"df-44a3cab6-def6-4026-9c9b-94e92f89c59d\">\n",
              "    <div class=\"colab-df-container\">\n",
              "      <div>\n",
              "<style scoped>\n",
              "    .dataframe tbody tr th:only-of-type {\n",
              "        vertical-align: middle;\n",
              "    }\n",
              "\n",
              "    .dataframe tbody tr th {\n",
              "        vertical-align: top;\n",
              "    }\n",
              "\n",
              "    .dataframe thead th {\n",
              "        text-align: right;\n",
              "    }\n",
              "</style>\n",
              "<table border=\"1\" class=\"dataframe\">\n",
              "  <thead>\n",
              "    <tr style=\"text-align: right;\">\n",
              "      <th></th>\n",
              "      <th>id</th>\n",
              "      <th>comment_text</th>\n",
              "      <th>toxic</th>\n",
              "      <th>severe_toxic</th>\n",
              "      <th>obscene</th>\n",
              "      <th>threat</th>\n",
              "      <th>insult</th>\n",
              "      <th>identity_hate</th>\n",
              "    </tr>\n",
              "  </thead>\n",
              "  <tbody>\n",
              "    <tr>\n",
              "      <th>0</th>\n",
              "      <td>0000997932d777bf</td>\n",
              "      <td>Explanation\\nWhy the edits made under my usern...</td>\n",
              "      <td>0</td>\n",
              "      <td>0</td>\n",
              "      <td>0</td>\n",
              "      <td>0</td>\n",
              "      <td>0</td>\n",
              "      <td>0</td>\n",
              "    </tr>\n",
              "    <tr>\n",
              "      <th>1</th>\n",
              "      <td>000103f0d9cfb60f</td>\n",
              "      <td>D'aww! He matches this background colour I'm s...</td>\n",
              "      <td>0</td>\n",
              "      <td>0</td>\n",
              "      <td>0</td>\n",
              "      <td>0</td>\n",
              "      <td>0</td>\n",
              "      <td>0</td>\n",
              "    </tr>\n",
              "    <tr>\n",
              "      <th>2</th>\n",
              "      <td>000113f07ec002fd</td>\n",
              "      <td>Hey man, I'm really not trying to edit war. It...</td>\n",
              "      <td>0</td>\n",
              "      <td>0</td>\n",
              "      <td>0</td>\n",
              "      <td>0</td>\n",
              "      <td>0</td>\n",
              "      <td>0</td>\n",
              "    </tr>\n",
              "    <tr>\n",
              "      <th>3</th>\n",
              "      <td>0001b41b1c6bb37e</td>\n",
              "      <td>\"\\nMore\\nI can't make any real suggestions on ...</td>\n",
              "      <td>0</td>\n",
              "      <td>0</td>\n",
              "      <td>0</td>\n",
              "      <td>0</td>\n",
              "      <td>0</td>\n",
              "      <td>0</td>\n",
              "    </tr>\n",
              "    <tr>\n",
              "      <th>4</th>\n",
              "      <td>0001d958c54c6e35</td>\n",
              "      <td>You, sir, are my hero. Any chance you remember...</td>\n",
              "      <td>0</td>\n",
              "      <td>0</td>\n",
              "      <td>0</td>\n",
              "      <td>0</td>\n",
              "      <td>0</td>\n",
              "      <td>0</td>\n",
              "    </tr>\n",
              "  </tbody>\n",
              "</table>\n",
              "</div>\n",
              "      <button class=\"colab-df-convert\" onclick=\"convertToInteractive('df-44a3cab6-def6-4026-9c9b-94e92f89c59d')\"\n",
              "              title=\"Convert this dataframe to an interactive table.\"\n",
              "              style=\"display:none;\">\n",
              "        \n",
              "  <svg xmlns=\"http://www.w3.org/2000/svg\" height=\"24px\"viewBox=\"0 0 24 24\"\n",
              "       width=\"24px\">\n",
              "    <path d=\"M0 0h24v24H0V0z\" fill=\"none\"/>\n",
              "    <path d=\"M18.56 5.44l.94 2.06.94-2.06 2.06-.94-2.06-.94-.94-2.06-.94 2.06-2.06.94zm-11 1L8.5 8.5l.94-2.06 2.06-.94-2.06-.94L8.5 2.5l-.94 2.06-2.06.94zm10 10l.94 2.06.94-2.06 2.06-.94-2.06-.94-.94-2.06-.94 2.06-2.06.94z\"/><path d=\"M17.41 7.96l-1.37-1.37c-.4-.4-.92-.59-1.43-.59-.52 0-1.04.2-1.43.59L10.3 9.45l-7.72 7.72c-.78.78-.78 2.05 0 2.83L4 21.41c.39.39.9.59 1.41.59.51 0 1.02-.2 1.41-.59l7.78-7.78 2.81-2.81c.8-.78.8-2.07 0-2.86zM5.41 20L4 18.59l7.72-7.72 1.47 1.35L5.41 20z\"/>\n",
              "  </svg>\n",
              "      </button>\n",
              "      \n",
              "  <style>\n",
              "    .colab-df-container {\n",
              "      display:flex;\n",
              "      flex-wrap:wrap;\n",
              "      gap: 12px;\n",
              "    }\n",
              "\n",
              "    .colab-df-convert {\n",
              "      background-color: #E8F0FE;\n",
              "      border: none;\n",
              "      border-radius: 50%;\n",
              "      cursor: pointer;\n",
              "      display: none;\n",
              "      fill: #1967D2;\n",
              "      height: 32px;\n",
              "      padding: 0 0 0 0;\n",
              "      width: 32px;\n",
              "    }\n",
              "\n",
              "    .colab-df-convert:hover {\n",
              "      background-color: #E2EBFA;\n",
              "      box-shadow: 0px 1px 2px rgba(60, 64, 67, 0.3), 0px 1px 3px 1px rgba(60, 64, 67, 0.15);\n",
              "      fill: #174EA6;\n",
              "    }\n",
              "\n",
              "    [theme=dark] .colab-df-convert {\n",
              "      background-color: #3B4455;\n",
              "      fill: #D2E3FC;\n",
              "    }\n",
              "\n",
              "    [theme=dark] .colab-df-convert:hover {\n",
              "      background-color: #434B5C;\n",
              "      box-shadow: 0px 1px 3px 1px rgba(0, 0, 0, 0.15);\n",
              "      filter: drop-shadow(0px 1px 2px rgba(0, 0, 0, 0.3));\n",
              "      fill: #FFFFFF;\n",
              "    }\n",
              "  </style>\n",
              "\n",
              "      <script>\n",
              "        const buttonEl =\n",
              "          document.querySelector('#df-44a3cab6-def6-4026-9c9b-94e92f89c59d button.colab-df-convert');\n",
              "        buttonEl.style.display =\n",
              "          google.colab.kernel.accessAllowed ? 'block' : 'none';\n",
              "\n",
              "        async function convertToInteractive(key) {\n",
              "          const element = document.querySelector('#df-44a3cab6-def6-4026-9c9b-94e92f89c59d');\n",
              "          const dataTable =\n",
              "            await google.colab.kernel.invokeFunction('convertToInteractive',\n",
              "                                                     [key], {});\n",
              "          if (!dataTable) return;\n",
              "\n",
              "          const docLinkHtml = 'Like what you see? Visit the ' +\n",
              "            '<a target=\"_blank\" href=https://colab.research.google.com/notebooks/data_table.ipynb>data table notebook</a>'\n",
              "            + ' to learn more about interactive tables.';\n",
              "          element.innerHTML = '';\n",
              "          dataTable['output_type'] = 'display_data';\n",
              "          await google.colab.output.renderOutput(dataTable, element);\n",
              "          const docLink = document.createElement('div');\n",
              "          docLink.innerHTML = docLinkHtml;\n",
              "          element.appendChild(docLink);\n",
              "        }\n",
              "      </script>\n",
              "    </div>\n",
              "  </div>\n",
              "  "
            ]
          },
          "metadata": {},
          "execution_count": 9
        }
      ]
    },
    {
      "cell_type": "code",
      "source": [
        "# TPU Detection - Check if TPU is running or not.\n",
        "try:\n",
        "    tpu = tf.distribute.cluster_resolver.TPUClusterResolver()\n",
        "    print(\"Running on TPU\", tpu.master())\n",
        "except ValueError:\n",
        "    tpu = None\n",
        "\n",
        "if tpu:\n",
        "    tf.config.experimental_connect_to_cluster(tpu)\n",
        "    tf.tpu.experimental.initialize_tpu_system(tpu)\n",
        "    strategy = tf.distribute.experimental.TPUStrategy(tpu)  # Connection of TPU.\n",
        "else:\n",
        "    strategy = tf.distribute.get_strategy()\n",
        "\n",
        "print(\"REPLICAS:\", strategy.num_replicas_in_sync)"
      ],
      "metadata": {
        "id": "1GPE_mEW2N1e"
      },
      "execution_count": null,
      "outputs": []
    },
    {
      "cell_type": "markdown",
      "source": [
        "## **Exploratory Data Analysis.**\n",
        "\n",
        "Exploratory Data Analysis (EDA) is an approach to analyzing the data using visual techniques. EDA discovers trends and patterns or checks assumptions with the help of statistical summaries and graphical representations."
      ],
      "metadata": {
        "id": "R_or192s4g0l"
      }
    },
    {
      "cell_type": "code",
      "source": [
        "# Dataset Shape.\n",
        "print(train.shape, test.shape)"
      ],
      "metadata": {
        "id": "hgSG8otp4hCT"
      },
      "execution_count": null,
      "outputs": []
    },
    {
      "cell_type": "code",
      "source": [
        "# Check Missing Values.\n",
        "train.isnull().sum()"
      ],
      "metadata": {
        "id": "XLV1WTDj47u9"
      },
      "execution_count": null,
      "outputs": []
    },
    {
      "cell_type": "code",
      "source": [
        "# Split Dataset into Feature and Target Set.\n",
        "X = train.comment_text\n",
        "y = train.drop([\"id\", \"comment_text\"], axis=1)\n",
        "\n",
        "LABELS = train.columns.tolist()[2:]"
      ],
      "metadata": {
        "id": "at99hYEt5CuN"
      },
      "execution_count": null,
      "outputs": []
    },
    {
      "cell_type": "code",
      "source": [
        "# Distribution of the target variable.\n",
        "for i in list(y.columns):\n",
        "    print(\"Percent of {0}s: \".format(i), round(100 * y[i].mean(), 2), \"%\")"
      ],
      "metadata": {
        "id": "rSeog1xx5JOb",
        "colab": {
          "base_uri": "https://localhost:8080/"
        },
        "outputId": "109a0116-5f9b-4145-d8bf-c579e103ca06"
      },
      "execution_count": null,
      "outputs": [
        {
          "output_type": "stream",
          "name": "stdout",
          "text": [
            "Percent of toxics:  9.58 %\n",
            "Percent of severe_toxics:  1.0 %\n",
            "Percent of obscenes:  5.29 %\n",
            "Percent of threats:  0.3 %\n",
            "Percent of insults:  4.94 %\n",
            "Percent of identity_hates:  0.88 %\n"
          ]
        }
      ]
    },
    {
      "cell_type": "code",
      "source": [
        "# Visualization of toxic comments distributions.\n",
        "train[LABELS].sum().sort_values().plot(kind=\"barh\");"
      ],
      "metadata": {
        "id": "67h_1C0w5bgT",
        "colab": {
          "base_uri": "https://localhost:8080/",
          "height": 434
        },
        "outputId": "b1387dad-c820-49f6-b7b8-3558f90f9aae"
      },
      "execution_count": null,
      "outputs": [
        {
          "output_type": "display_data",
          "data": {
            "text/plain": [
              "<Figure size 640x480 with 1 Axes>"
            ],
            "image/png": "[encoded data removed]"
          },
          "metadata": {
            "image/png": {
              "width": 651,
              "height": 417
            }
          }
        }
      ]
    },
    {
      "cell_type": "code",
      "source": [
        "# Undersample the Majority Class.\n",
        "from sklearn.model_selection import train_test_split\n",
        "\n",
        "train_df, valid_df = train_test_split(train, test_size=0.2)\n",
        "\n",
        "train_toxic = train_df[train_df[LABELS].sum(axis=1) > 0]\n",
        "train_clean = train_df[train_df[LABELS].sum(axis=1) == 0]\n",
        "\n",
        "pd.DataFrame(\n",
        "    dict(toxic=[len(train_toxic)], clean=[len(train_clean.sample(45_000))])\n",
        ").plot(kind=\"barh\")\n",
        "\n",
        "# Balance dataset of Toxic and Non-toxic comments.\n",
        "train_df = pd.concat([train_toxic, train_clean.sample(45_000)])"
      ],
      "metadata": {
        "id": "_RrRt8_M5cTs",
        "colab": {
          "base_uri": "https://localhost:8080/",
          "height": 434
        },
        "outputId": "38ad5981-08c4-4c4c-aca7-577015a37b1b"
      },
      "execution_count": null,
      "outputs": [
        {
          "output_type": "display_data",
          "data": {
            "text/plain": [
              "<Figure size 640x480 with 1 Axes>"
            ],
            "image/png": "[encoded data removed]"
          },
          "metadata": {
            "image/png": {
              "width": 538,
              "height": 417
            }
          }
        }
      ]
    },
    {
      "cell_type": "markdown",
      "source": [
        "## **Text Preprocessing & Cleaning.**\n",
        "\n",
        "Function to clean the review text and remove all the unnecessary elements."
      ],
      "metadata": {
        "id": "DLT3hzbBzafu"
      }
    },
    {
      "cell_type": "code",
      "source": [
        "# Text Preprocessing & Cleaning.\n",
        "def clean_review_text(text):\n",
        "    text = text.lower()  # Convert text to lowercase.\n",
        "    text = re.sub(\"<.*?>\", \"\", text).strip()  # Remove HTML chars.\n",
        "    text = text.translate(\n",
        "        str.maketrans(\"\", \"\", string.punctuation)\n",
        "    )  # Remove punctuation marks.\n",
        "    text = re.sub(\"(\\\\W)\", \" \", text).strip()  # Remove NON-ASCII chars.\n",
        "    text = re.sub(\"\\S*\\d\\S*\\s*\", \"\", text).strip()  # Remove words containing numbers.\n",
        "    return text.strip()\n",
        "\n",
        "\n",
        "# Apply Text Preprocessing.\n",
        "train_df.comment_text = train_df.comment_text.astype(str)\n",
        "train_df.comment_text = train_df.comment_text.apply(clean_review_text)\n",
        "\n",
        "valid_df.comment_text = valid_df.comment_text.astype(str)\n",
        "valid_df.comment_text = valid_df.comment_text.apply(clean_review_text)\n",
        "\n",
        "test.comment_text = test.comment_text.astype(str)\n",
        "test.comment_text = test.comment_text.apply(clean_review_text)"
      ],
      "metadata": {
        "id": "ykmAE1RkzNUo"
      },
      "execution_count": null,
      "outputs": []
    },
    {
      "cell_type": "markdown",
      "source": [
        "## **Toxic Comment Detector Classifier.**\n",
        "\n",
        "Detect whether the input text is toxic or not."
      ],
      "metadata": {
        "id": "DJ1bV2ic1PtG"
      }
    },
    {
      "cell_type": "code",
      "source": [
        "# Encoder to encode text into a sequence of integers for BERT input.\n",
        "def fast_encode(texts, tokenizer, batch_size=256, MAX_LEN=512):\n",
        "    tokenizer.enable_truncation(max_length=MAX_LEN)\n",
        "    tokenizer.enable_padding(length=MAX_LEN)\n",
        "    all_ids = []\n",
        "    for i in tqdm(range(0, len(texts), batch_size)):\n",
        "        text_chunk = texts[i : i + batch_size].tolist()\n",
        "        encs = tokenizer.encode_batch(text_chunk)\n",
        "        all_ids.extend([enc.ids for enc in encs])\n",
        "    return np.array(all_ids)\n",
        "\n",
        "\n",
        "# Model Configuration.\n",
        "AUTO = tf.data.experimental.AUTOTUNE\n",
        "EPOCHS = 15\n",
        "BATCH_SIZE = 8 * strategy.num_replicas_in_sync\n",
        "NO_CLASSES = len(train.columns.tolist()[2:])\n",
        "MAX_LEN = 512\n",
        "\n",
        "callbacks = [\n",
        "    EarlyStopping(patience=2, verbose=1),\n",
        "    ReduceLROnPlateau(factor=0.1, patience=2, min_lr=0.00001, verbose=1),\n",
        "    ModelCheckpoint(\"toxic_detector.h5\", verbose=1, save_best_only=True),\n",
        "]\n",
        "\n",
        "\n",
        "# Model Architecture/Pipeline.\n",
        "def create_model(transformer, maxlen):\n",
        "    # Pretrained BERT Model.\n",
        "    input_word_ids = Input(shape=(maxlen,), dtype=tf.int32, name=\"input_word_ids\")\n",
        "    sequence_output = transformer(input_word_ids)[0]  # Output from the BERT Model.\n",
        "    cls_token = sequence_output[:, 0, :]\n",
        "    # Fine-Tuning BERT Model.\n",
        "    out = Dense(256, activation=\"relu\", kernel_regularizer=\"l2\")(cls_token)\n",
        "    out = Dropout(0.4)(out)\n",
        "    out = Dense(128, activation=\"relu\", kernel_regularizer=\"l2\")(out)\n",
        "    out = Dropout(0.4)(out)\n",
        "    out = Dense(128, activation=\"relu\", kernel_regularizer=\"l2\")(out)\n",
        "    out = Dropout(0.4)(out)\n",
        "    out = Dense(NO_CLASSES, activation=\"sigmoid\")(out)\n",
        "    # Final Model Construction.\n",
        "    model = Model(inputs=input_word_ids, outputs=out)\n",
        "    # Compile the Model.\n",
        "    model.compile(Adam(lr=1e-5), loss=\"binary_crossentropy\", metrics=[\"AUC\"])\n",
        "    return model\n",
        "\n",
        "\n",
        "# Load DistilBERT with the Tokenizer.\n",
        "tokenizer = transformers.DistilBertTokenizer.from_pretrained(\"distilbert-base-cased\")\n",
        "# Save the loaded tokenizer locally.\n",
        "tokenizer.save_pretrained(\".\")\n",
        "# Reload it with the HuggingFace tokenizers library.\n",
        "fast_tokenizer = BertWordPieceTokenizer(\"vocab.txt\", lowercase=False)"
      ],
      "metadata": {
        "id": "laPeduk81cnn"
      },
      "execution_count": null,
      "outputs": []
    },
    {
      "cell_type": "code",
      "source": [
        "# Prepare Dataset for BERT Model.\n",
        "X_train = fast_encode(train_df.comment_text.astype(str), fast_tokenizer, MAX_LEN)\n",
        "y_train = train_df.drop([\"id\", \"comment_text\"], axis=1)\n",
        "\n",
        "X_valid = fast_encode(valid_df.comment_text.astype(str), fast_tokenizer, MAX_LEN)\n",
        "y_valid = valid_df.drop([\"id\", \"comment_text\"], axis=1)\n",
        "\n",
        "X_test = fast_encode(test.comment_text.astype(str), fast_tokenizer, MAX_LEN)\n",
        "\n",
        "# Build Dataset Objects.\n",
        "train_dataset = (\n",
        "    tf.data.Dataset.from_tensor_slices((X_train, y_train))\n",
        "    .repeat()\n",
        "    .shuffle(2048)\n",
        "    .batch(BATCH_SIZE)\n",
        "    .prefetch(AUTO)\n",
        ")\n",
        "\n",
        "valid_dataset = (\n",
        "    tf.data.Dataset.from_tensor_slices((X_valid, y_valid))\n",
        "    .batch(BATCH_SIZE)\n",
        "    .cache()\n",
        "    .prefetch(AUTO)\n",
        ")\n",
        "\n",
        "test_dataset = tf.data.Dataset.from_tensor_slices(X_test).batch(BATCH_SIZE)"
      ],
      "metadata": {
        "id": "aoHU_Rv8AVVx"
      },
      "execution_count": null,
      "outputs": []
    },
    {
      "cell_type": "code",
      "source": [
        "# Load Model into the TPU.\n",
        "with strategy.scope():\n",
        "    transformer_layer = transformers.TFDistilBertModel.from_pretrained(\n",
        "        \"distilbert-base-cased\"\n",
        "    )\n",
        "    model = create_model(transformer_layer, MAX_LEN)\n",
        "\n",
        "# Model Summary.\n",
        "model.summary()"
      ],
      "metadata": {
        "id": "oGD_rEoCEoQr"
      },
      "execution_count": null,
      "outputs": []
    },
    {
      "cell_type": "code",
      "source": [
        "\"\"\" Train the BERT Model. \"\"\"\n",
        "n_steps = X_train.shape[0] // BATCH_SIZE\n",
        "\n",
        "# Fit the Model.\n",
        "train_history = model.fit(\n",
        "    train_dataset,\n",
        "    steps_per_epoch=n_steps,\n",
        "    validation_data=valid_dataset,\n",
        "    epochs=EPOCHS,\n",
        "    callbacks=callbacks,\n",
        ")"
      ],
      "metadata": {
        "id": "viC4I_Y3E057"
      },
      "execution_count": null,
      "outputs": []
    },
    {
      "cell_type": "markdown",
      "source": [
        "## **Predict Test Result.**"
      ],
      "metadata": {
        "id": "-pGLxb-HY30m"
      }
    },
    {
      "cell_type": "code",
      "source": [
        "# Toxic Comment Prediction.\n",
        "y_pred = np.round_(model.predict(test_dataset, verbose=1), decimals=2)\n",
        "\n",
        "result = pd.DataFrame(\n",
        "    y_pred,\n",
        "    columns=[\"toxic\", \"severe_toxic\", \"obscene\", \"threat\", \"insult\", \"identity_hate\"],\n",
        ")\n",
        "\n",
        "# Concatenate DataFrames.\n",
        "id = test[\"id\"]\n",
        "result = pd.concat([id, result], axis=1)\n",
        "\n",
        "# Save Predictions.\n",
        "result.to_csv(\"submission.csv\", index=False)"
      ],
      "metadata": {
        "id": "R1EE6MgAI0t5"
      },
      "execution_count": null,
      "outputs": []
    }
  ]
}