{
  "nbformat": 4,
  "nbformat_minor": 0,
  "metadata": {
    "colab": {
      "provenance": []
    },
    "kernelspec": {
      "name": "python3",
      "display_name": "Python 3"
    },
    "language_info": {
      "name": "python"
    }
  },
  "cells": [
    {
      "cell_type": "markdown",
      "source": [
        "# **Feature Selection Techniques**"
      ],
      "metadata": {
        "id": "d4UGzKZ4UWRc"
      }
    },
    {
      "cell_type": "code",
      "execution_count": null,
      "metadata": {
        "colab": {
          "base_uri": "https://localhost:8080/",
          "height": 285
        },
        "id": "VTVkNsXzmjOW",
        "outputId": "98f972b9-5e23-4901-c0cd-eef7d5e8a36d"
      },
      "outputs": [
        {
          "output_type": "execute_result",
          "data": {
            "text/plain": [
              "   Class Label  Alcohol  Malic Acid   Ash  Alkalinity of Ash  Magnesium  \\\n",
              "0            1    14.23        1.71  2.43               15.6        127   \n",
              "1            1    13.20        1.78  2.14               11.2        100   \n",
              "2            1    13.16        2.36  2.67               18.6        101   \n",
              "3            1    14.37        1.95  2.50               16.8        113   \n",
              "4            1    13.24        2.59  2.87               21.0        118   \n",
              "\n",
              "   Total Phenols  Flavanoids  Nonflavanoid Phenols  Proanthocyanidins  \\\n",
              "0           2.80        3.06                  0.28               2.29   \n",
              "1           2.65        2.76                  0.26               1.28   \n",
              "2           2.80        3.24                  0.30               2.81   \n",
              "3           3.85        3.49                  0.24               2.18   \n",
              "4           2.80        2.69                  0.39               1.82   \n",
              "\n",
              "   Color Intensity   Hue  OD280/OD315 of Diluted Wines  Proline  \n",
              "0             5.64  1.04                          3.92     1065  \n",
              "1             4.38  1.05                          3.40     1050  \n",
              "2             5.68  1.03                          3.17     1185  \n",
              "3             7.80  0.86                          3.45     1480  \n",
              "4             4.32  1.04                          2.93      735  "
            ],
            "text/html": [
              "\n",
              "  <div id=\"df-20a32681-e2e5-451a-889b-af32e62ed5e3\">\n",
              "    <div class=\"colab-df-container\">\n",
              "      <div>\n",
              "<style scoped>\n",
              "    .dataframe tbody tr th:only-of-type {\n",
              "        vertical-align: middle;\n",
              "    }\n",
              "\n",
              "    .dataframe tbody tr th {\n",
              "        vertical-align: top;\n",
              "    }\n",
              "\n",
              "    .dataframe thead th {\n",
              "        text-align: right;\n",
              "    }\n",
              "</style>\n",
              "<table border=\"1\" class=\"dataframe\">\n",
              "  <thead>\n",
              "    <tr style=\"text-align: right;\">\n",
              "      <th></th>\n",
              "      <th>Class Label</th>\n",
              "      <th>Alcohol</th>\n",
              "      <th>Malic Acid</th>\n",
              "      <th>Ash</th>\n",
              "      <th>Alkalinity of Ash</th>\n",
              "      <th>Magnesium</th>\n",
              "      <th>Total Phenols</th>\n",
              "      <th>Flavanoids</th>\n",
              "      <th>Nonflavanoid Phenols</th>\n",
              "      <th>Proanthocyanidins</th>\n",
              "      <th>Color Intensity</th>\n",
              "      <th>Hue</th>\n",
              "      <th>OD280/OD315 of Diluted Wines</th>\n",
              "      <th>Proline</th>\n",
              "    </tr>\n",
              "  </thead>\n",
              "  <tbody>\n",
              "    <tr>\n",
              "      <th>0</th>\n",
              "      <td>1</td>\n",
              "      <td>14.23</td>\n",
              "      <td>1.71</td>\n",
              "      <td>2.43</td>\n",
              "      <td>15.6</td>\n",
              "      <td>127</td>\n",
              "      <td>2.80</td>\n",
              "      <td>3.06</td>\n",
              "      <td>0.28</td>\n",
              "      <td>2.29</td>\n",
              "      <td>5.64</td>\n",
              "      <td>1.04</td>\n",
              "      <td>3.92</td>\n",
              "      <td>1065</td>\n",
              "    </tr>\n",
              "    <tr>\n",
              "      <th>1</th>\n",
              "      <td>1</td>\n",
              "      <td>13.20</td>\n",
              "      <td>1.78</td>\n",
              "      <td>2.14</td>\n",
              "      <td>11.2</td>\n",
              "      <td>100</td>\n",
              "      <td>2.65</td>\n",
              "      <td>2.76</td>\n",
              "      <td>0.26</td>\n",
              "      <td>1.28</td>\n",
              "      <td>4.38</td>\n",
              "      <td>1.05</td>\n",
              "      <td>3.40</td>\n",
              "      <td>1050</td>\n",
              "    </tr>\n",
              "    <tr>\n",
              "      <th>2</th>\n",
              "      <td>1</td>\n",
              "      <td>13.16</td>\n",
              "      <td>2.36</td>\n",
              "      <td>2.67</td>\n",
              "      <td>18.6</td>\n",
              "      <td>101</td>\n",
              "      <td>2.80</td>\n",
              "      <td>3.24</td>\n",
              "      <td>0.30</td>\n",
              "      <td>2.81</td>\n",
              "      <td>5.68</td>\n",
              "      <td>1.03</td>\n",
              "      <td>3.17</td>\n",
              "      <td>1185</td>\n",
              "    </tr>\n",
              "    <tr>\n",
              "      <th>3</th>\n",
              "      <td>1</td>\n",
              "      <td>14.37</td>\n",
              "      <td>1.95</td>\n",
              "      <td>2.50</td>\n",
              "      <td>16.8</td>\n",
              "      <td>113</td>\n",
              "      <td>3.85</td>\n",
              "      <td>3.49</td>\n",
              "      <td>0.24</td>\n",
              "      <td>2.18</td>\n",
              "      <td>7.80</td>\n",
              "      <td>0.86</td>\n",
              "      <td>3.45</td>\n",
              "      <td>1480</td>\n",
              "    </tr>\n",
              "    <tr>\n",
              "      <th>4</th>\n",
              "      <td>1</td>\n",
              "      <td>13.24</td>\n",
              "      <td>2.59</td>\n",
              "      <td>2.87</td>\n",
              "      <td>21.0</td>\n",
              "      <td>118</td>\n",
              "      <td>2.80</td>\n",
              "      <td>2.69</td>\n",
              "      <td>0.39</td>\n",
              "      <td>1.82</td>\n",
              "      <td>4.32</td>\n",
              "      <td>1.04</td>\n",
              "      <td>2.93</td>\n",
              "      <td>735</td>\n",
              "    </tr>\n",
              "  </tbody>\n",
              "</table>\n",
              "</div>\n",
              "      <button class=\"colab-df-convert\" onclick=\"convertToInteractive('df-20a32681-e2e5-451a-889b-af32e62ed5e3')\"\n",
              "              title=\"Convert this dataframe to an interactive table.\"\n",
              "              style=\"display:none;\">\n",
              "        \n",
              "  <svg xmlns=\"http://www.w3.org/2000/svg\" height=\"24px\"viewBox=\"0 0 24 24\"\n",
              "       width=\"24px\">\n",
              "    <path d=\"M0 0h24v24H0V0z\" fill=\"none\"/>\n",
              "    <path d=\"M18.56 5.44l.94 2.06.94-2.06 2.06-.94-2.06-.94-.94-2.06-.94 2.06-2.06.94zm-11 1L8.5 8.5l.94-2.06 2.06-.94-2.06-.94L8.5 2.5l-.94 2.06-2.06.94zm10 10l.94 2.06.94-2.06 2.06-.94-2.06-.94-.94-2.06-.94 2.06-2.06.94z\"/><path d=\"M17.41 7.96l-1.37-1.37c-.4-.4-.92-.59-1.43-.59-.52 0-1.04.2-1.43.59L10.3 9.45l-7.72 7.72c-.78.78-.78 2.05 0 2.83L4 21.41c.39.39.9.59 1.41.59.51 0 1.02-.2 1.41-.59l7.78-7.78 2.81-2.81c.8-.78.8-2.07 0-2.86zM5.41 20L4 18.59l7.72-7.72 1.47 1.35L5.41 20z\"/>\n",
              "  </svg>\n",
              "      </button>\n",
              "      \n",
              "  <style>\n",
              "    .colab-df-container {\n",
              "      display:flex;\n",
              "      flex-wrap:wrap;\n",
              "      gap: 12px;\n",
              "    }\n",
              "\n",
              "    .colab-df-convert {\n",
              "      background-color: #E8F0FE;\n",
              "      border: none;\n",
              "      border-radius: 50%;\n",
              "      cursor: pointer;\n",
              "      display: none;\n",
              "      fill: #1967D2;\n",
              "      height: 32px;\n",
              "      padding: 0 0 0 0;\n",
              "      width: 32px;\n",
              "    }\n",
              "\n",
              "    .colab-df-convert:hover {\n",
              "      background-color: #E2EBFA;\n",
              "      box-shadow: 0px 1px 2px rgba(60, 64, 67, 0.3), 0px 1px 3px 1px rgba(60, 64, 67, 0.15);\n",
              "      fill: #174EA6;\n",
              "    }\n",
              "\n",
              "    [theme=dark] .colab-df-convert {\n",
              "      background-color: #3B4455;\n",
              "      fill: #D2E3FC;\n",
              "    }\n",
              "\n",
              "    [theme=dark] .colab-df-convert:hover {\n",
              "      background-color: #434B5C;\n",
              "      box-shadow: 0px 1px 3px 1px rgba(0, 0, 0, 0.15);\n",
              "      filter: drop-shadow(0px 1px 2px rgba(0, 0, 0, 0.3));\n",
              "      fill: #FFFFFF;\n",
              "    }\n",
              "  </style>\n",
              "\n",
              "      <script>\n",
              "        const buttonEl =\n",
              "          document.querySelector('#df-20a32681-e2e5-451a-889b-af32e62ed5e3 button.colab-df-convert');\n",
              "        buttonEl.style.display =\n",
              "          google.colab.kernel.accessAllowed ? 'block' : 'none';\n",
              "\n",
              "        async function convertToInteractive(key) {\n",
              "          const element = document.querySelector('#df-20a32681-e2e5-451a-889b-af32e62ed5e3');\n",
              "          const dataTable =\n",
              "            await google.colab.kernel.invokeFunction('convertToInteractive',\n",
              "                                                     [key], {});\n",
              "          if (!dataTable) return;\n",
              "\n",
              "          const docLinkHtml = 'Like what you see? Visit the ' +\n",
              "            '<a target=\"_blank\" href=https://colab.research.google.com/notebooks/data_table.ipynb>data table notebook</a>'\n",
              "            + ' to learn more about interactive tables.';\n",
              "          element.innerHTML = '';\n",
              "          dataTable['output_type'] = 'display_data';\n",
              "          await google.colab.output.renderOutput(dataTable, element);\n",
              "          const docLink = document.createElement('div');\n",
              "          docLink.innerHTML = docLinkHtml;\n",
              "          element.appendChild(docLink);\n",
              "        }\n",
              "      </script>\n",
              "    </div>\n",
              "  </div>\n",
              "  "
            ]
          },
          "metadata": {},
          "execution_count": 1
        }
      ],
      "source": [
        "# Import Library.\n",
        "import pandas as pd\n",
        "import seaborn as sns\n",
        "import matplotlib.pyplot as plt\n",
        "import warnings\n",
        "\n",
        "warnings.filterwarnings(\"ignore\")\n",
        "\n",
        "# Load Dataset.\n",
        "data = pd.read_csv(\n",
        "    \"https://archive.ics.uci.edu/ml/machine-learning-databases/wine/wine.data\",\n",
        "    header=None,\n",
        ")\n",
        "\n",
        "data.columns = [\n",
        "    \"Class Label\",\n",
        "    \"Alcohol\",\n",
        "    \"Malic Acid\",\n",
        "    \"Ash\",\n",
        "    \"Alkalinity of Ash\",\n",
        "    \"Magnesium\",\n",
        "    \"Total Phenols\",\n",
        "    \"Flavanoids\",\n",
        "    \"Nonflavanoid Phenols\",\n",
        "    \"Proanthocyanidins\",\n",
        "    \"Color Intensity\",\n",
        "    \"Hue\",\n",
        "    \"OD280/OD315 of Diluted Wines\",\n",
        "    \"Proline\",\n",
        "]\n",
        "\n",
        "data.head()"
      ]
    },
    {
      "cell_type": "code",
      "source": [
        "# Imputation using Mean Values.\n",
        "data = data.fillna(data.mean())\n",
        "\n",
        "# Split Dataset into Independent and Dependent Features.\n",
        "X = data.iloc[:, 1:]\n",
        "y = data.iloc[:, 0]"
      ],
      "metadata": {
        "id": "WRqQT6JiqGKR"
      },
      "execution_count": null,
      "outputs": []
    },
    {
      "cell_type": "markdown",
      "metadata": {
        "id": "JQwUNt_nvz-l"
      },
      "source": [
        "# **⚛ Feature Selection with Correlation.** \n",
        "\n",
        "**Correlation is a measure of the linear relationship between two or more variables. Through correlation, we can predict one variable from the other. The logic behind using correlation for feature selection is that good-quality features are highly correlated with the target. Furthermore, independent features should be correlated with the target but should be uncorrelated among themselves.**\n",
        "\n",
        "If two features are correlated, we can predict one from the other. Therefore, if two independent features are correlated among themselves, the model only needs one of them, as the second feature does not add additional information. Hence, use the **Pearson Correlation** here."
      ]
    },
    {
      "cell_type": "code",
      "metadata": {
        "colab": {
          "base_uri": "https://localhost:8080/",
          "height": 961
        },
        "id": "cBdbwroPppss",
        "outputId": "c7212201-72c7-4131-f76d-4c2196fd1b60"
      },
      "source": [
        "# Using Pearson Correlation.\n",
        "plt.figure(figsize=(18, 14))\n",
        "corr = data.corr()\n",
        "sns.heatmap(corr, annot=True, cmap=plt.cm.CMRmap_r)\n",
        "plt.show()"
      ],
      "execution_count": null,
      "outputs": [
        {
          "output_type": "display_data",
          "data": {
            "text/plain": [
              "<Figure size 1296x1008 with 2 Axes>"
            ],
            "image/png": "[encoded data removed]"
          },
          "metadata": {
            "needs_background": "light"
          }
        }
      ]
    },
    {
      "cell_type": "code",
      "metadata": {
        "id": "QQPe7tIirE8f"
      },
      "source": [
        "# The following function can select highly correlated features and will remove the first feature that is correlated with other features.\n",
        "def correlation(dataset, threshold):\n",
        "    col_corr = set()  # Set of all the names of correlated columns.\n",
        "    corr_matrix = dataset.corr()\n",
        "    for i in range(len(corr_matrix.columns)):\n",
        "        for j in range(i):\n",
        "            if abs(corr_matrix.iloc[i, j]) > threshold:\n",
        "                colname = corr_matrix.columns[i]  # Extract Column Names.\n",
        "                col_corr.add(colname)\n",
        "    return col_corr"
      ],
      "execution_count": null,
      "outputs": []
    },
    {
      "cell_type": "code",
      "metadata": {
        "colab": {
          "base_uri": "https://localhost:8080/"
        },
        "id": "1X7Cu6PpsAhX",
        "outputId": "c61f4509-b0d5-498b-8f87-2856f8ac9c58"
      },
      "source": [
        "# List of Correlated Features.\n",
        "corr_features = correlation(data, 0.5)\n",
        "print(corr_features)"
      ],
      "execution_count": null,
      "outputs": [
        {
          "output_type": "stream",
          "name": "stdout",
          "text": [
            "{'OD280/OD315 of Diluted Wines', 'Color Intensity', 'Proline', 'Nonflavanoid Phenols', 'Flavanoids', 'Total Phenols', 'Hue', 'Proanthocyanidins', 'Alkalinity of Ash'}\n"
          ]
        }
      ]
    },
    {
      "cell_type": "code",
      "metadata": {
        "id": "NvMUmJPTvJ4f"
      },
      "source": [
        "# Drop Correlated Features.\n",
        "corr_df = data.drop(corr_features, axis=1)\n",
        "\n",
        "corr_df.info()"
      ],
      "execution_count": null,
      "outputs": []
    },
    {
      "cell_type": "markdown",
      "metadata": {
        "id": "m9fwu5B7iBbP"
      },
      "source": [
        "# **⚛ Applying Variance Threshold.**\n",
        "\n",
        "**Variance Threshold Feature Selector removes all low-variance features. This feature selection algorithm looks only at the features ($X$), not the desired output ($y$), and can thus be used for unsupervised learning.**\n",
        "\n",
        "**Parameters:-** *threshold : float, default=0*\n",
        "\n",
        "Features with a training-set variance lower than this threshold will be removed. The default is to keep all features with non-zero variance, i.e., remove the features that have the same value in all samples.\n",
        "\n",
        "> [**sklearn.feature_selection.VarianceThreshold**](https://scikit-learn.org/stable/modules/generated/sklearn.feature_selection.VarianceThreshold.html)"
      ]
    },
    {
      "cell_type": "code",
      "metadata": {
        "id": "kFoOzea0cH9V",
        "colab": {
          "base_uri": "https://localhost:8080/"
        },
        "outputId": "b4af685f-b031-496c-e50b-72ea9670224f"
      },
      "source": [
        "from sklearn.feature_selection import VarianceThreshold\n",
        "\n",
        "var_threshold = VarianceThreshold(threshold=0.5)\n",
        "var_threshold.fit(data)\n",
        "\n",
        "var_threshold.get_support()"
      ],
      "execution_count": null,
      "outputs": [
        {
          "output_type": "execute_result",
          "data": {
            "text/plain": [
              "array([ True,  True,  True, False,  True,  True, False,  True, False,\n",
              "       False,  True, False,  True,  True])"
            ]
          },
          "metadata": {},
          "execution_count": 7
        }
      ]
    },
    {
      "cell_type": "code",
      "metadata": {
        "id": "yq317LUrdkTh",
        "colab": {
          "base_uri": "https://localhost:8080/"
        },
        "outputId": "647f3685-08e9-4afe-da9b-f1d31fd7c6d7"
      },
      "source": [
        "# Total Feature Selection.\n",
        "print(sum(var_threshold.get_support()))"
      ],
      "execution_count": null,
      "outputs": [
        {
          "output_type": "stream",
          "name": "stdout",
          "text": [
            "9\n"
          ]
        }
      ]
    },
    {
      "cell_type": "code",
      "metadata": {
        "id": "cYQLhrEDeBwm",
        "colab": {
          "base_uri": "https://localhost:8080/"
        },
        "outputId": "3a2f2d31-5784-473b-f755-f5f004e38d3c"
      },
      "source": [
        "# Count of Rejected Features.\n",
        "constant_columns = [\n",
        "    column\n",
        "    for column in data.columns\n",
        "    if column not in data.columns[var_threshold.get_support()]\n",
        "]\n",
        "\n",
        "# List of Rejected Features.\n",
        "print(constant_columns)"
      ],
      "execution_count": null,
      "outputs": [
        {
          "output_type": "stream",
          "name": "stdout",
          "text": [
            "['Ash', 'Total Phenols', 'Nonflavanoid Phenols', 'Proanthocyanidins', 'Hue']\n"
          ]
        }
      ]
    },
    {
      "cell_type": "code",
      "metadata": {
        "id": "_iZ-wIakgEFe"
      },
      "source": [
        "# Drop Selected Features below threshold value.\n",
        "var_thres_df = data.drop(constant_columns, axis=1)\n",
        "\n",
        "var_thres_df.info()"
      ],
      "execution_count": null,
      "outputs": []
    },
    {
      "cell_type": "markdown",
      "metadata": {
        "id": "iEfqNxqcAoCz"
      },
      "source": [
        "# **⚛ Embedded Methods.**\n",
        "\n",
        "These methods encompass the benefits of both the wrapper and filter methods by including interactions of features but also maintaining reasonable computational costs. Embedded methods are iterative in the sense that takes care of each iteration of the model training process and carefully extract those features which contribute the most to the training for a particular iteration."
      ]
    },
    {
      "cell_type": "markdown",
      "metadata": {
        "id": "40Iyw0bQA2CJ"
      },
      "source": [
        "### **LASSO ($L^{1} $) based Feature Selection.**\n",
        "\n",
        "> [**Feature Selection using SelectFromModel**](https://scikit-learn.org/stable/modules/feature_selection.html#feature-selection-using-selectfrommodel)"
      ]
    },
    {
      "cell_type": "code",
      "metadata": {
        "colab": {
          "base_uri": "https://localhost:8080/"
        },
        "id": "QAa1d_8VBFKC",
        "outputId": "e45b6536-4720-40f0-8da8-72c9b5b07867"
      },
      "source": [
        "from sklearn.linear_model import LogisticRegression\n",
        "from sklearn.feature_selection import SelectFromModel\n",
        "\n",
        "clf = LogisticRegression(C=1, penalty=\"l1\", solver=\"liblinear\", random_state=42).fit(\n",
        "    X, y\n",
        ")\n",
        "model = SelectFromModel(clf, prefit=True)\n",
        "X_new = model.transform(X)\n",
        "X_new.shape"
      ],
      "execution_count": null,
      "outputs": [
        {
          "output_type": "execute_result",
          "data": {
            "text/plain": [
              "(178, 11)"
            ]
          },
          "metadata": {},
          "execution_count": 11
        }
      ]
    },
    {
      "cell_type": "markdown",
      "metadata": {
        "id": "o7NGnZ3OSJxG"
      },
      "source": [
        "### **Tree-based Feature Selection.**"
      ]
    },
    {
      "cell_type": "code",
      "metadata": {
        "colab": {
          "base_uri": "https://localhost:8080/"
        },
        "id": "ptdzIyMZSPNe",
        "outputId": "3cf618ba-cc57-4c40-b892-36efa8a252d2"
      },
      "source": [
        "from sklearn.ensemble import ExtraTreesClassifier, RandomForestClassifier\n",
        "from sklearn.feature_selection import SelectFromModel\n",
        "\n",
        "clf = ExtraTreesClassifier(n_estimators=50, random_state=42).fit(X, y)\n",
        "# clf = RandomForestClassifier(n_estimators=50, random_state=42).fit(X, y)\n",
        "model = SelectFromModel(clf, prefit=True)\n",
        "X_new = model.transform(X)\n",
        "X_new.shape"
      ],
      "execution_count": null,
      "outputs": [
        {
          "output_type": "execute_result",
          "data": {
            "text/plain": [
              "(178, 6)"
            ]
          },
          "metadata": {},
          "execution_count": 12
        }
      ]
    },
    {
      "cell_type": "markdown",
      "metadata": {
        "id": "yjlInUlOUynF"
      },
      "source": [
        "# **⚛ Filter Methods.**\n",
        "\n",
        "1.   **Forward Selection:** Forward selection is an iterative method in which we start with having no feature in the model. In each iteration, we keep adding the feature which best improves our model till an addition of a new variable does not improve the performance of the model.\n",
        "\n",
        "2.   **Backward Elimination:** In backward elimination, we start with all the features and remove the least significant feature at each iteration which improves the performance of the model. We repeat this until no improvement is observed in the removal of features.\n",
        "\n",
        "3.   **Recursive Feature Elimination:** It is a greedy optimization algorithm that aims to find the best-performing feature subset. It repeatedly creates models and keeps aside the best or the worst performing feature at each iteration. It constructs the next model with the left features until all the features are exhausted. It then ranks the features based on the order of their elimination.\n",
        "\n",
        "![filter.jpg](https://analyticsindiamag.com/wp-content/uploads/2019/04/filte.jpg)"
      ]
    },
    {
      "cell_type": "markdown",
      "metadata": {
        "id": "IauwSCOoLZ49"
      },
      "source": [
        "### **Feature Importance using Random Forest.**"
      ]
    },
    {
      "cell_type": "code",
      "metadata": {
        "colab": {
          "base_uri": "https://localhost:8080/",
          "height": 285
        },
        "id": "66KSjCUuDrEc",
        "outputId": "819461ef-1cb7-4f0f-856d-a482a57484ba"
      },
      "source": [
        "from sklearn.ensemble import RandomForestClassifier\n",
        "\n",
        "# Create Random Forest Classifier with different hyperparameters and fit the model.\n",
        "clf = RandomForestClassifier(random_state=1).fit(X, y)\n",
        "\n",
        "# Find the importance score of all the features.\n",
        "importances = clf.feature_importances_\n",
        "\n",
        "# Create Dataframe for Visualization.\n",
        "final_df = pd.DataFrame(\n",
        "    {\"Features\": pd.DataFrame(X).columns, \"Importances\": importances}\n",
        ")\n",
        "final_df.set_index(\"Importances\")\n",
        "\n",
        "# Sort in Ascending Order.\n",
        "final_df = final_df.sort_values(\"Importances\")\n",
        "\n",
        "# Plot the Feature Importance in Bar Graphs.\n",
        "final_df.plot.bar(color=\"teal\")"
      ],
      "execution_count": null,
      "outputs": [
        {
          "output_type": "execute_result",
          "data": {
            "text/plain": [
              "<matplotlib.axes._subplots.AxesSubplot at 0x7f5bfe9443d0>"
            ]
          },
          "metadata": {},
          "execution_count": 13
        },
        {
          "output_type": "display_data",
          "data": {
            "text/plain": [
              "<Figure size 432x288 with 1 Axes>"
            ],
            "image/png": "[encoded data removed]"
          },
          "metadata": {
            "needs_background": "light"
          }
        }
      ]
    },
    {
      "cell_type": "markdown",
      "metadata": {
        "id": "RBluooFzee3H"
      },
      "source": [
        "### **Feature Ranking with Recursive Feature Elimination.**\n",
        "\n",
        "Given an external estimator that assigns weights to features (e.g., the coefficients of a linear model), the goal of recursive feature elimination (RFE) is to select features by recursively considering smaller and smaller sets of features. First, the estimator is trained on the initial set of features and the importance of each feature is obtained either through any specific attribute or callable. Then, the least important features are pruned from the current set of features. That procedure is recursively repeated on the pruned set until the desired number of features to select is eventually reached.\n",
        "\n",
        "> [**sklearn.feature_selection.RFE**](https://scikit-learn.org/stable/modules/generated/sklearn.feature_selection.RFE.html#sklearn.feature_selection.RFE)"
      ]
    },
    {
      "cell_type": "code",
      "metadata": {
        "colab": {
          "base_uri": "https://localhost:8080/"
        },
        "id": "eswA2fo_egqm",
        "outputId": "feccc768-d79b-4502-feaf-40dc819c6883"
      },
      "source": [
        "from sklearn.feature_selection import RFE\n",
        "from sklearn.svm import SVC\n",
        "\n",
        "estimator = SVC(kernel=\"linear\")\n",
        "selector = RFE(estimator, n_features_to_select=5, step=1).fit(X, y)\n",
        "print(selector.support_)\n",
        "print(selector.ranking_)"
      ],
      "execution_count": null,
      "outputs": [
        {
          "output_type": "stream",
          "name": "stdout",
          "text": [
            "[ True False  True False False False  True  True False False False  True\n",
            " False]\n",
            "[1 4 1 5 8 3 1 1 6 2 7 1 9]\n"
          ]
        }
      ]
    },
    {
      "cell_type": "markdown",
      "metadata": {
        "id": "F_6pehxDkgAb"
      },
      "source": [
        "# **⚛ Mutual Information for Classification.**\n",
        "\n",
        "*   Estimate mutual information for a discrete target variable.\n",
        "\n",
        "**Mutual Information (MI) between two random variables is a non-negative value, which measures the dependency between the variables. It is equal to zero, if and only if two random variables are independent, and higher values mean higher dependency.**\n",
        "\n",
        "> [**sklearn.feature_selection.mutual_info_classif**](https://scikit-learn.org/stable/modules/generated/sklearn.feature_selection.mutual_info_classif.html#sklearn.feature_selection.mutual_info_classif)"
      ]
    },
    {
      "cell_type": "code",
      "metadata": {
        "colab": {
          "base_uri": "https://localhost:8080/"
        },
        "id": "Z_Pv6HRokZxr",
        "outputId": "c5a7e31b-1f51-4fbc-bf83-d04df65e761e"
      },
      "source": [
        "from sklearn.feature_selection import mutual_info_classif\n",
        "\n",
        "# Determine the mutual information.\n",
        "mutual_info = mutual_info_classif(X, y)\n",
        "mutual_info"
      ],
      "execution_count": null,
      "outputs": [
        {
          "output_type": "execute_result",
          "data": {
            "text/plain": [
              "array([0.46189541, 0.26489297, 0.06253794, 0.25949142, 0.19286637,\n",
              "       0.41551687, 0.66894818, 0.10903757, 0.29853104, 0.56392112,\n",
              "       0.45670074, 0.51226976, 0.55255866])"
            ]
          },
          "metadata": {},
          "execution_count": 15
        }
      ]
    },
    {
      "cell_type": "code",
      "metadata": {
        "colab": {
          "base_uri": "https://localhost:8080/"
        },
        "id": "bMqkMV2Kmb8c",
        "outputId": "356c4cfe-45da-440d-8254-d099fbce48ed"
      },
      "source": [
        "# Sort the features based on Importance.\n",
        "mutual_info = pd.Series(mutual_info)\n",
        "mutual_info.index = X.columns\n",
        "mutual_info.sort_values(ascending=False)"
      ],
      "execution_count": null,
      "outputs": [
        {
          "output_type": "execute_result",
          "data": {
            "text/plain": [
              "Flavanoids                      0.668948\n",
              "Color Intensity                 0.563921\n",
              "Proline                         0.552559\n",
              "OD280/OD315 of Diluted Wines    0.512270\n",
              "Alcohol                         0.461895\n",
              "Hue                             0.456701\n",
              "Total Phenols                   0.415517\n",
              "Proanthocyanidins               0.298531\n",
              "Malic Acid                      0.264893\n",
              "Alkalinity of Ash               0.259491\n",
              "Magnesium                       0.192866\n",
              "Nonflavanoid Phenols            0.109038\n",
              "Ash                             0.062538\n",
              "dtype: float64"
            ]
          },
          "metadata": {},
          "execution_count": 16
        }
      ]
    },
    {
      "cell_type": "code",
      "metadata": {
        "colab": {
          "base_uri": "https://localhost:8080/",
          "height": 629
        },
        "id": "S8LYkB5SmwtB",
        "outputId": "874fb51b-566c-4787-b54f-172801b2866d"
      },
      "source": [
        "# Plot the ordered mutual_info values per feature.\n",
        "mutual_info.sort_values(ascending=False).plot.bar(figsize=(20, 8))"
      ],
      "execution_count": null,
      "outputs": [
        {
          "output_type": "execute_result",
          "data": {
            "text/plain": [
              "<matplotlib.axes._subplots.AxesSubplot at 0x7f5bfe878b90>"
            ]
          },
          "metadata": {},
          "execution_count": 17
        },
        {
          "output_type": "display_data",
          "data": {
            "text/plain": [
              "<Figure size 1440x576 with 1 Axes>"
            ],
            "image/png": "[encoded data removed]"
          },
          "metadata": {
            "needs_background": "light"
          }
        }
      ]
    },
    {
      "cell_type": "code",
      "metadata": {
        "colab": {
          "base_uri": "https://localhost:8080/"
        },
        "id": "uQTPwkxFniG3",
        "outputId": "c0570509-89c4-4a6a-dc55-ec4aa5bba25e"
      },
      "source": [
        "from sklearn.feature_selection import SelectKBest\n",
        "\n",
        "# Select the top-best K=10 features.\n",
        "sel_K_features = SelectKBest(mutual_info_classif, k=10).fit(X, y)\n",
        "X.columns[sel_K_features.get_support()]"
      ],
      "execution_count": null,
      "outputs": [
        {
          "output_type": "execute_result",
          "data": {
            "text/plain": [
              "Index(['Alcohol', 'Malic Acid', 'Alkalinity of Ash', 'Total Phenols',\n",
              "       'Flavanoids', 'Proanthocyanidins', 'Color Intensity', 'Hue',\n",
              "       'OD280/OD315 of Diluted Wines', 'Proline'],\n",
              "      dtype='object')"
            ]
          },
          "metadata": {},
          "execution_count": 18
        }
      ]
    },
    {
      "cell_type": "markdown",
      "metadata": {
        "id": "7_SNRgkkrI7y"
      },
      "source": [
        "# **⚛ Mutual Information for Regression.**\n",
        "\n",
        "*   Estimate mutual information for a continuous target variable.\n",
        "\n",
        "**Mutual Information (MI) between two random variables is a non-negative value, which measures the dependency between the variables. It is equal to zero, if and only if two random variables are independent, and higher values mean higher dependency.**\n",
        "\n",
        "> [**sklearn.feature_selection.mutual_info_regression**](https://scikit-learn.org/stable/modules/generated/sklearn.feature_selection.mutual_info_regression.html#sklearn.feature_selection.mutual_info_regression)\n"
      ]
    },
    {
      "cell_type": "code",
      "metadata": {
        "id": "8P5g6NYNs_F5",
        "colab": {
          "base_uri": "https://localhost:8080/",
          "height": 426
        },
        "outputId": "5e2cb811-9a7d-45af-b04a-9073456fe499"
      },
      "source": [
        "# Load Dataset.\n",
        "fb_dataset = pd.read_csv(\n",
        "    \"https://raw.githubusercontent.com/albanda/CE888/master/lab3/dataset_Facebook.csv\",\n",
        "    delimiter=\";\",\n",
        ")\n",
        "\n",
        "# Select only Numeric Features.\n",
        "numeric_lst = [\"int16\", \"int32\", \"int64\", \"float16\", \"float32\", \"float64\"]\n",
        "numerical_cols = list(fb_dataset.select_dtypes(include=numeric_lst).columns)\n",
        "fb_dataset = fb_dataset[numerical_cols]\n",
        "\n",
        "fb_dataset.head()"
      ],
      "execution_count": null,
      "outputs": [
        {
          "output_type": "execute_result",
          "data": {
            "text/plain": [
              "   Page total likes  Category  Post Month  Post Weekday  Post Hour  Paid  \\\n",
              "0            139441         2          12             4          3   0.0   \n",
              "1            139441         2          12             3         10   0.0   \n",
              "2            139441         3          12             3          3   0.0   \n",
              "3            139441         2          12             2         10   1.0   \n",
              "4            139441         2          12             2          3   0.0   \n",
              "\n",
              "   Lifetime Post Total Reach  Lifetime Post Total Impressions  \\\n",
              "0                       2752                             5091   \n",
              "1                      10460                            19057   \n",
              "2                       2413                             4373   \n",
              "3                      50128                            87991   \n",
              "4                       7244                            13594   \n",
              "\n",
              "   Lifetime Engaged Users  Lifetime Post Consumers  \\\n",
              "0                     178                      109   \n",
              "1                    1457                     1361   \n",
              "2                     177                      113   \n",
              "3                    2211                      790   \n",
              "4                     671                      410   \n",
              "\n",
              "   Lifetime Post Consumptions  \\\n",
              "0                         159   \n",
              "1                        1674   \n",
              "2                         154   \n",
              "3                        1119   \n",
              "4                         580   \n",
              "\n",
              "   Lifetime Post Impressions by people who have liked your Page  \\\n",
              "0                                               3078              \n",
              "1                                              11710              \n",
              "2                                               2812              \n",
              "3                                              61027              \n",
              "4                                               6228              \n",
              "\n",
              "   Lifetime Post reach by people who like your Page  \\\n",
              "0                                              1640   \n",
              "1                                              6112   \n",
              "2                                              1503   \n",
              "3                                             32048   \n",
              "4                                              3200   \n",
              "\n",
              "   Lifetime People who have liked your Page and engaged with your post  \\\n",
              "0                                                119                     \n",
              "1                                               1108                     \n",
              "2                                                132                     \n",
              "3                                               1386                     \n",
              "4                                                396                     \n",
              "\n",
              "   comment    like  share  Total Interactions  \n",
              "0        4    79.0   17.0                 100  \n",
              "1        5   130.0   29.0                 164  \n",
              "2        0    66.0   14.0                  80  \n",
              "3       58  1572.0  147.0                1777  \n",
              "4       19   325.0   49.0                 393  "
            ],
            "text/html": [
              "\n",
              "  <div id=\"df-eb5b08b1-dc52-40a3-a92e-f5e1360cdaea\">\n",
              "    <div class=\"colab-df-container\">\n",
              "      <div>\n",
              "<style scoped>\n",
              "    .dataframe tbody tr th:only-of-type {\n",
              "        vertical-align: middle;\n",
              "    }\n",
              "\n",
              "    .dataframe tbody tr th {\n",
              "        vertical-align: top;\n",
              "    }\n",
              "\n",
              "    .dataframe thead th {\n",
              "        text-align: right;\n",
              "    }\n",
              "</style>\n",
              "<table border=\"1\" class=\"dataframe\">\n",
              "  <thead>\n",
              "    <tr style=\"text-align: right;\">\n",
              "      <th></th>\n",
              "      <th>Page total likes</th>\n",
              "      <th>Category</th>\n",
              "      <th>Post Month</th>\n",
              "      <th>Post Weekday</th>\n",
              "      <th>Post Hour</th>\n",
              "      <th>Paid</th>\n",
              "      <th>Lifetime Post Total Reach</th>\n",
              "      <th>Lifetime Post Total Impressions</th>\n",
              "      <th>Lifetime Engaged Users</th>\n",
              "      <th>Lifetime Post Consumers</th>\n",
              "      <th>Lifetime Post Consumptions</th>\n",
              "      <th>Lifetime Post Impressions by people who have liked your Page</th>\n",
              "      <th>Lifetime Post reach by people who like your Page</th>\n",
              "      <th>Lifetime People who have liked your Page and engaged with your post</th>\n",
              "      <th>comment</th>\n",
              "      <th>like</th>\n",
              "      <th>share</th>\n",
              "      <th>Total Interactions</th>\n",
              "    </tr>\n",
              "  </thead>\n",
              "  <tbody>\n",
              "    <tr>\n",
              "      <th>0</th>\n",
              "      <td>139441</td>\n",
              "      <td>2</td>\n",
              "      <td>12</td>\n",
              "      <td>4</td>\n",
              "      <td>3</td>\n",
              "      <td>0.0</td>\n",
              "      <td>2752</td>\n",
              "      <td>5091</td>\n",
              "      <td>178</td>\n",
              "      <td>109</td>\n",
              "      <td>159</td>\n",
              "      <td>3078</td>\n",
              "      <td>1640</td>\n",
              "      <td>119</td>\n",
              "      <td>4</td>\n",
              "      <td>79.0</td>\n",
              "      <td>17.0</td>\n",
              "      <td>100</td>\n",
              "    </tr>\n",
              "    <tr>\n",
              "      <th>1</th>\n",
              "      <td>139441</td>\n",
              "      <td>2</td>\n",
              "      <td>12</td>\n",
              "      <td>3</td>\n",
              "      <td>10</td>\n",
              "      <td>0.0</td>\n",
              "      <td>10460</td>\n",
              "      <td>19057</td>\n",
              "      <td>1457</td>\n",
              "      <td>1361</td>\n",
              "      <td>1674</td>\n",
              "      <td>11710</td>\n",
              "      <td>6112</td>\n",
              "      <td>1108</td>\n",
              "      <td>5</td>\n",
              "      <td>130.0</td>\n",
              "      <td>29.0</td>\n",
              "      <td>164</td>\n",
              "    </tr>\n",
              "    <tr>\n",
              "      <th>2</th>\n",
              "      <td>139441</td>\n",
              "      <td>3</td>\n",
              "      <td>12</td>\n",
              "      <td>3</td>\n",
              "      <td>3</td>\n",
              "      <td>0.0</td>\n",
              "      <td>2413</td>\n",
              "      <td>4373</td>\n",
              "      <td>177</td>\n",
              "      <td>113</td>\n",
              "      <td>154</td>\n",
              "      <td>2812</td>\n",
              "      <td>1503</td>\n",
              "      <td>132</td>\n",
              "      <td>0</td>\n",
              "      <td>66.0</td>\n",
              "      <td>14.0</td>\n",
              "      <td>80</td>\n",
              "    </tr>\n",
              "    <tr>\n",
              "      <th>3</th>\n",
              "      <td>139441</td>\n",
              "      <td>2</td>\n",
              "      <td>12</td>\n",
              "      <td>2</td>\n",
              "      <td>10</td>\n",
              "      <td>1.0</td>\n",
              "      <td>50128</td>\n",
              "      <td>87991</td>\n",
              "      <td>2211</td>\n",
              "      <td>790</td>\n",
              "      <td>1119</td>\n",
              "      <td>61027</td>\n",
              "      <td>32048</td>\n",
              "      <td>1386</td>\n",
              "      <td>58</td>\n",
              "      <td>1572.0</td>\n",
              "      <td>147.0</td>\n",
              "      <td>1777</td>\n",
              "    </tr>\n",
              "    <tr>\n",
              "      <th>4</th>\n",
              "      <td>139441</td>\n",
              "      <td>2</td>\n",
              "      <td>12</td>\n",
              "      <td>2</td>\n",
              "      <td>3</td>\n",
              "      <td>0.0</td>\n",
              "      <td>7244</td>\n",
              "      <td>13594</td>\n",
              "      <td>671</td>\n",
              "      <td>410</td>\n",
              "      <td>580</td>\n",
              "      <td>6228</td>\n",
              "      <td>3200</td>\n",
              "      <td>396</td>\n",
              "      <td>19</td>\n",
              "      <td>325.0</td>\n",
              "      <td>49.0</td>\n",
              "      <td>393</td>\n",
              "    </tr>\n",
              "  </tbody>\n",
              "</table>\n",
              "</div>\n",
              "      <button class=\"colab-df-convert\" onclick=\"convertToInteractive('df-eb5b08b1-dc52-40a3-a92e-f5e1360cdaea')\"\n",
              "              title=\"Convert this dataframe to an interactive table.\"\n",
              "              style=\"display:none;\">\n",
              "        \n",
              "  <svg xmlns=\"http://www.w3.org/2000/svg\" height=\"24px\"viewBox=\"0 0 24 24\"\n",
              "       width=\"24px\">\n",
              "    <path d=\"M0 0h24v24H0V0z\" fill=\"none\"/>\n",
              "    <path d=\"M18.56 5.44l.94 2.06.94-2.06 2.06-.94-2.06-.94-.94-2.06-.94 2.06-2.06.94zm-11 1L8.5 8.5l.94-2.06 2.06-.94-2.06-.94L8.5 2.5l-.94 2.06-2.06.94zm10 10l.94 2.06.94-2.06 2.06-.94-2.06-.94-.94-2.06-.94 2.06-2.06.94z\"/><path d=\"M17.41 7.96l-1.37-1.37c-.4-.4-.92-.59-1.43-.59-.52 0-1.04.2-1.43.59L10.3 9.45l-7.72 7.72c-.78.78-.78 2.05 0 2.83L4 21.41c.39.39.9.59 1.41.59.51 0 1.02-.2 1.41-.59l7.78-7.78 2.81-2.81c.8-.78.8-2.07 0-2.86zM5.41 20L4 18.59l7.72-7.72 1.47 1.35L5.41 20z\"/>\n",
              "  </svg>\n",
              "      </button>\n",
              "      \n",
              "  <style>\n",
              "    .colab-df-container {\n",
              "      display:flex;\n",
              "      flex-wrap:wrap;\n",
              "      gap: 12px;\n",
              "    }\n",
              "\n",
              "    .colab-df-convert {\n",
              "      background-color: #E8F0FE;\n",
              "      border: none;\n",
              "      border-radius: 50%;\n",
              "      cursor: pointer;\n",
              "      display: none;\n",
              "      fill: #1967D2;\n",
              "      height: 32px;\n",
              "      padding: 0 0 0 0;\n",
              "      width: 32px;\n",
              "    }\n",
              "\n",
              "    .colab-df-convert:hover {\n",
              "      background-color: #E2EBFA;\n",
              "      box-shadow: 0px 1px 2px rgba(60, 64, 67, 0.3), 0px 1px 3px 1px rgba(60, 64, 67, 0.15);\n",
              "      fill: #174EA6;\n",
              "    }\n",
              "\n",
              "    [theme=dark] .colab-df-convert {\n",
              "      background-color: #3B4455;\n",
              "      fill: #D2E3FC;\n",
              "    }\n",
              "\n",
              "    [theme=dark] .colab-df-convert:hover {\n",
              "      background-color: #434B5C;\n",
              "      box-shadow: 0px 1px 3px 1px rgba(0, 0, 0, 0.15);\n",
              "      filter: drop-shadow(0px 1px 2px rgba(0, 0, 0, 0.3));\n",
              "      fill: #FFFFFF;\n",
              "    }\n",
              "  </style>\n",
              "\n",
              "      <script>\n",
              "        const buttonEl =\n",
              "          document.querySelector('#df-eb5b08b1-dc52-40a3-a92e-f5e1360cdaea button.colab-df-convert');\n",
              "        buttonEl.style.display =\n",
              "          google.colab.kernel.accessAllowed ? 'block' : 'none';\n",
              "\n",
              "        async function convertToInteractive(key) {\n",
              "          const element = document.querySelector('#df-eb5b08b1-dc52-40a3-a92e-f5e1360cdaea');\n",
              "          const dataTable =\n",
              "            await google.colab.kernel.invokeFunction('convertToInteractive',\n",
              "                                                     [key], {});\n",
              "          if (!dataTable) return;\n",
              "\n",
              "          const docLinkHtml = 'Like what you see? Visit the ' +\n",
              "            '<a target=\"_blank\" href=https://colab.research.google.com/notebooks/data_table.ipynb>data table notebook</a>'\n",
              "            + ' to learn more about interactive tables.';\n",
              "          element.innerHTML = '';\n",
              "          dataTable['output_type'] = 'display_data';\n",
              "          await google.colab.output.renderOutput(dataTable, element);\n",
              "          const docLink = document.createElement('div');\n",
              "          docLink.innerHTML = docLinkHtml;\n",
              "          element.appendChild(docLink);\n",
              "        }\n",
              "      </script>\n",
              "    </div>\n",
              "  </div>\n",
              "  "
            ]
          },
          "metadata": {},
          "execution_count": 19
        }
      ]
    },
    {
      "cell_type": "code",
      "metadata": {
        "id": "1oqK2AGSyXpl"
      },
      "source": [
        "# Split dataset into features and target variable.\n",
        "X = fb_dataset.iloc[:, :-1]\n",
        "y = fb_dataset.iloc[:, -1]"
      ],
      "execution_count": null,
      "outputs": []
    },
    {
      "cell_type": "code",
      "metadata": {
        "id": "p8I6Sl-rympf",
        "colab": {
          "base_uri": "https://localhost:8080/"
        },
        "outputId": "c45831e0-9481-482c-b7e6-c7cb068db4e7"
      },
      "source": [
        "from sklearn.feature_selection import mutual_info_regression\n",
        "\n",
        "# Determine the mutual information.\n",
        "mutual_info = mutual_info_regression(X.fillna(0), y)\n",
        "mutual_info"
      ],
      "execution_count": null,
      "outputs": [
        {
          "output_type": "execute_result",
          "data": {
            "text/plain": [
              "array([0.13816345, 0.11377616, 0.11600086, 0.0467525 , 0.        ,\n",
              "       0.00692219, 0.44169199, 0.46216452, 0.37747753, 0.22207471,\n",
              "       0.22265297, 0.30468064, 0.33361774, 0.39684684, 0.35450781,\n",
              "       2.61164835, 0.91205262])"
            ]
          },
          "metadata": {},
          "execution_count": 21
        }
      ]
    },
    {
      "cell_type": "code",
      "metadata": {
        "id": "q-U4mkMny6PV",
        "colab": {
          "base_uri": "https://localhost:8080/"
        },
        "outputId": "f687c164-1e4a-4050-bb5c-39b962bc5bba"
      },
      "source": [
        "# Sort the features based on Importance.\n",
        "mutual_info = pd.Series(mutual_info)\n",
        "mutual_info.index = X.columns\n",
        "mutual_info.sort_values(ascending=False)"
      ],
      "execution_count": null,
      "outputs": [
        {
          "output_type": "execute_result",
          "data": {
            "text/plain": [
              "like                                                                   2.611648\n",
              "share                                                                  0.912053\n",
              "Lifetime Post Total Impressions                                        0.462165\n",
              "Lifetime Post Total Reach                                              0.441692\n",
              "Lifetime People who have liked your Page and engaged with your post    0.396847\n",
              "Lifetime Engaged Users                                                 0.377478\n",
              "comment                                                                0.354508\n",
              "Lifetime Post reach by people who like your Page                       0.333618\n",
              "Lifetime Post Impressions by people who have liked your Page           0.304681\n",
              "Lifetime Post Consumptions                                             0.222653\n",
              "Lifetime Post Consumers                                                0.222075\n",
              "Page total likes                                                       0.138163\n",
              "Post Month                                                             0.116001\n",
              "Category                                                               0.113776\n",
              "Post Weekday                                                           0.046753\n",
              "Paid                                                                   0.006922\n",
              "Post Hour                                                              0.000000\n",
              "dtype: float64"
            ]
          },
          "metadata": {},
          "execution_count": 22
        }
      ]
    },
    {
      "cell_type": "code",
      "metadata": {
        "id": "bambrhdQzAIO",
        "colab": {
          "base_uri": "https://localhost:8080/",
          "height": 708
        },
        "outputId": "18352125-49bb-4ffa-f92b-e5e1beb10368"
      },
      "source": [
        "# Plot the ordered mutual_info values per feature.\n",
        "mutual_info.sort_values(ascending=False).plot.bar(figsize=(20, 6))"
      ],
      "execution_count": null,
      "outputs": [
        {
          "output_type": "execute_result",
          "data": {
            "text/plain": [
              "<matplotlib.axes._subplots.AxesSubplot at 0x7f5bfe7e44d0>"
            ]
          },
          "metadata": {},
          "execution_count": 23
        },
        {
          "output_type": "display_data",
          "data": {
            "text/plain": [
              "<Figure size 1440x432 with 1 Axes>"
            ],
            "image/png": "[encoded data removed]"
          },
          "metadata": {
            "needs_background": "light"
          }
        }
      ]
    },
    {
      "cell_type": "markdown",
      "metadata": {
        "id": "qdwc7omU1LNu"
      },
      "source": [
        "> [**sklearn.feature_selection.SelectPercentile**](https://scikit-learn.org/stable/modules/generated/sklearn.feature_selection.SelectPercentile.html#sklearn.feature_selection.SelectPercentile)"
      ]
    },
    {
      "cell_type": "code",
      "metadata": {
        "id": "MXn9cmEazMkf",
        "colab": {
          "base_uri": "https://localhost:8080/"
        },
        "outputId": "5e38a5fb-ff03-4c3e-f2e9-27529efab6e3"
      },
      "source": [
        "from sklearn.feature_selection import SelectPercentile\n",
        "\n",
        "# Select the top 20 percentile.\n",
        "sel_top_features = SelectPercentile(mutual_info_regression, percentile=20).fit(\n",
        "    X.fillna(0), y\n",
        ")\n",
        "X.columns[sel_top_features.get_support()]"
      ],
      "execution_count": null,
      "outputs": [
        {
          "output_type": "execute_result",
          "data": {
            "text/plain": [
              "Index(['Lifetime Post Total Reach', 'Lifetime Post Total Impressions', 'like',\n",
              "       'share'],\n",
              "      dtype='object')"
            ]
          },
          "metadata": {},
          "execution_count": 24
        }
      ]
    },
    {
      "cell_type": "markdown",
      "metadata": {
        "id": "iDpgOQjUt2OR"
      },
      "source": [
        "# **⚛ Chi-Square $\\chi^{2}$ Test for Feature Selection.**\n",
        "\n",
        "`Compute Chi-Squared stats between each non-negative feature and class.`\n",
        "\n",
        "*  This score evaluates categorical features in a classification task.\n",
        "\n",
        "Chi-Square is calculated between each feature and the target variable, and select the desired number of features with the best Chi-Square scores. To correctly apply the chi-squared to test the relation between various features in the dataset and the target variable, the following conditions have to be satisfied, i.e., the variables have to be categorical, sampled independently, and values should have an expected frequency greater than 5.\n",
        "\n",
        "This score can be used to select the `n_features` features with the highest values for the test chi-squared statistic from $X$, which must contain only non-negative features such as booleans or frequencies (e.g., term counts in document classification) relative to the classes.\n",
        "\n",
        "Recall that the chi-square test measures dependence between stochastic variables, so using this function \"weeds out\" the features that are the most likely to be independent of class and therefore irrelevant for classification.\n",
        "\n",
        "> [**sklearn.feature_selection.chi2**](https://scikit-learn.org/stable/modules/generated/sklearn.feature_selection.chi2.html)\n"
      ]
    },
    {
      "cell_type": "code",
      "metadata": {
        "id": "p_BxOTpfZ8do",
        "colab": {
          "base_uri": "https://localhost:8080/",
          "height": 299
        },
        "outputId": "8b1da3e3-5f98-4d03-a87e-05e7b3b71898"
      },
      "source": [
        "import pandas as pd\n",
        "\n",
        "# Load Dataset.\n",
        "data = pd.read_csv(\n",
        "    \"https://raw.githubusercontent.com/albanda/CE888/master/lab3/bank-additional-full.csv\",\n",
        "    delimiter=\";\",\n",
        ")\n",
        "data.head()"
      ],
      "execution_count": null,
      "outputs": [
        {
          "output_type": "execute_result",
          "data": {
            "text/plain": [
              "   age        job  marital    education  default housing loan    contact  \\\n",
              "0   56  housemaid  married     basic.4y       no      no   no  telephone   \n",
              "1   57   services  married  high.school  unknown      no   no  telephone   \n",
              "2   37   services  married  high.school       no     yes   no  telephone   \n",
              "3   40     admin.  married     basic.6y       no      no   no  telephone   \n",
              "4   56   services  married  high.school       no      no  yes  telephone   \n",
              "\n",
              "  month day_of_week  ...  campaign  pdays  previous     poutcome emp.var.rate  \\\n",
              "0   may         mon  ...         1    999         0  nonexistent          1.1   \n",
              "1   may         mon  ...         1    999         0  nonexistent          1.1   \n",
              "2   may         mon  ...         1    999         0  nonexistent          1.1   \n",
              "3   may         mon  ...         1    999         0  nonexistent          1.1   \n",
              "4   may         mon  ...         1    999         0  nonexistent          1.1   \n",
              "\n",
              "   cons.price.idx  cons.conf.idx  euribor3m  nr.employed   y  \n",
              "0          93.994          -36.4      4.857       5191.0  no  \n",
              "1          93.994          -36.4      4.857       5191.0  no  \n",
              "2          93.994          -36.4      4.857       5191.0  no  \n",
              "3          93.994          -36.4      4.857       5191.0  no  \n",
              "4          93.994          -36.4      4.857       5191.0  no  \n",
              "\n",
              "[5 rows x 21 columns]"
            ],
            "text/html": [
              "\n",
              "  <div id=\"df-1b6392fd-e713-4cbc-819d-ea6206bd421c\">\n",
              "    <div class=\"colab-df-container\">\n",
              "      <div>\n",
              "<style scoped>\n",
              "    .dataframe tbody tr th:only-of-type {\n",
              "        vertical-align: middle;\n",
              "    }\n",
              "\n",
              "    .dataframe tbody tr th {\n",
              "        vertical-align: top;\n",
              "    }\n",
              "\n",
              "    .dataframe thead th {\n",
              "        text-align: right;\n",
              "    }\n",
              "</style>\n",
              "<table border=\"1\" class=\"dataframe\">\n",
              "  <thead>\n",
              "    <tr style=\"text-align: right;\">\n",
              "      <th></th>\n",
              "      <th>age</th>\n",
              "      <th>job</th>\n",
              "      <th>marital</th>\n",
              "      <th>education</th>\n",
              "      <th>default</th>\n",
              "      <th>housing</th>\n",
              "      <th>loan</th>\n",
              "      <th>contact</th>\n",
              "      <th>month</th>\n",
              "      <th>day_of_week</th>\n",
              "      <th>...</th>\n",
              "      <th>campaign</th>\n",
              "      <th>pdays</th>\n",
              "      <th>previous</th>\n",
              "      <th>poutcome</th>\n",
              "      <th>emp.var.rate</th>\n",
              "      <th>cons.price.idx</th>\n",
              "      <th>cons.conf.idx</th>\n",
              "      <th>euribor3m</th>\n",
              "      <th>nr.employed</th>\n",
              "      <th>y</th>\n",
              "    </tr>\n",
              "  </thead>\n",
              "  <tbody>\n",
              "    <tr>\n",
              "      <th>0</th>\n",
              "      <td>56</td>\n",
              "      <td>housemaid</td>\n",
              "      <td>married</td>\n",
              "      <td>basic.4y</td>\n",
              "      <td>no</td>\n",
              "      <td>no</td>\n",
              "      <td>no</td>\n",
              "      <td>telephone</td>\n",
              "      <td>may</td>\n",
              "      <td>mon</td>\n",
              "      <td>...</td>\n",
              "      <td>1</td>\n",
              "      <td>999</td>\n",
              "      <td>0</td>\n",
              "      <td>nonexistent</td>\n",
              "      <td>1.1</td>\n",
              "      <td>93.994</td>\n",
              "      <td>-36.4</td>\n",
              "      <td>4.857</td>\n",
              "      <td>5191.0</td>\n",
              "      <td>no</td>\n",
              "    </tr>\n",
              "    <tr>\n",
              "      <th>1</th>\n",
              "      <td>57</td>\n",
              "      <td>services</td>\n",
              "      <td>married</td>\n",
              "      <td>high.school</td>\n",
              "      <td>unknown</td>\n",
              "      <td>no</td>\n",
              "      <td>no</td>\n",
              "      <td>telephone</td>\n",
              "      <td>may</td>\n",
              "      <td>mon</td>\n",
              "      <td>...</td>\n",
              "      <td>1</td>\n",
              "      <td>999</td>\n",
              "      <td>0</td>\n",
              "      <td>nonexistent</td>\n",
              "      <td>1.1</td>\n",
              "      <td>93.994</td>\n",
              "      <td>-36.4</td>\n",
              "      <td>4.857</td>\n",
              "      <td>5191.0</td>\n",
              "      <td>no</td>\n",
              "    </tr>\n",
              "    <tr>\n",
              "      <th>2</th>\n",
              "      <td>37</td>\n",
              "      <td>services</td>\n",
              "      <td>married</td>\n",
              "      <td>high.school</td>\n",
              "      <td>no</td>\n",
              "      <td>yes</td>\n",
              "      <td>no</td>\n",
              "      <td>telephone</td>\n",
              "      <td>may</td>\n",
              "      <td>mon</td>\n",
              "      <td>...</td>\n",
              "      <td>1</td>\n",
              "      <td>999</td>\n",
              "      <td>0</td>\n",
              "      <td>nonexistent</td>\n",
              "      <td>1.1</td>\n",
              "      <td>93.994</td>\n",
              "      <td>-36.4</td>\n",
              "      <td>4.857</td>\n",
              "      <td>5191.0</td>\n",
              "      <td>no</td>\n",
              "    </tr>\n",
              "    <tr>\n",
              "      <th>3</th>\n",
              "      <td>40</td>\n",
              "      <td>admin.</td>\n",
              "      <td>married</td>\n",
              "      <td>basic.6y</td>\n",
              "      <td>no</td>\n",
              "      <td>no</td>\n",
              "      <td>no</td>\n",
              "      <td>telephone</td>\n",
              "      <td>may</td>\n",
              "      <td>mon</td>\n",
              "      <td>...</td>\n",
              "      <td>1</td>\n",
              "      <td>999</td>\n",
              "      <td>0</td>\n",
              "      <td>nonexistent</td>\n",
              "      <td>1.1</td>\n",
              "      <td>93.994</td>\n",
              "      <td>-36.4</td>\n",
              "      <td>4.857</td>\n",
              "      <td>5191.0</td>\n",
              "      <td>no</td>\n",
              "    </tr>\n",
              "    <tr>\n",
              "      <th>4</th>\n",
              "      <td>56</td>\n",
              "      <td>services</td>\n",
              "      <td>married</td>\n",
              "      <td>high.school</td>\n",
              "      <td>no</td>\n",
              "      <td>no</td>\n",
              "      <td>yes</td>\n",
              "      <td>telephone</td>\n",
              "      <td>may</td>\n",
              "      <td>mon</td>\n",
              "      <td>...</td>\n",
              "      <td>1</td>\n",
              "      <td>999</td>\n",
              "      <td>0</td>\n",
              "      <td>nonexistent</td>\n",
              "      <td>1.1</td>\n",
              "      <td>93.994</td>\n",
              "      <td>-36.4</td>\n",
              "      <td>4.857</td>\n",
              "      <td>5191.0</td>\n",
              "      <td>no</td>\n",
              "    </tr>\n",
              "  </tbody>\n",
              "</table>\n",
              "<p>5 rows × 21 columns</p>\n",
              "</div>\n",
              "      <button class=\"colab-df-convert\" onclick=\"convertToInteractive('df-1b6392fd-e713-4cbc-819d-ea6206bd421c')\"\n",
              "              title=\"Convert this dataframe to an interactive table.\"\n",
              "              style=\"display:none;\">\n",
              "        \n",
              "  <svg xmlns=\"http://www.w3.org/2000/svg\" height=\"24px\"viewBox=\"0 0 24 24\"\n",
              "       width=\"24px\">\n",
              "    <path d=\"M0 0h24v24H0V0z\" fill=\"none\"/>\n",
              "    <path d=\"M18.56 5.44l.94 2.06.94-2.06 2.06-.94-2.06-.94-.94-2.06-.94 2.06-2.06.94zm-11 1L8.5 8.5l.94-2.06 2.06-.94-2.06-.94L8.5 2.5l-.94 2.06-2.06.94zm10 10l.94 2.06.94-2.06 2.06-.94-2.06-.94-.94-2.06-.94 2.06-2.06.94z\"/><path d=\"M17.41 7.96l-1.37-1.37c-.4-.4-.92-.59-1.43-.59-.52 0-1.04.2-1.43.59L10.3 9.45l-7.72 7.72c-.78.78-.78 2.05 0 2.83L4 21.41c.39.39.9.59 1.41.59.51 0 1.02-.2 1.41-.59l7.78-7.78 2.81-2.81c.8-.78.8-2.07 0-2.86zM5.41 20L4 18.59l7.72-7.72 1.47 1.35L5.41 20z\"/>\n",
              "  </svg>\n",
              "      </button>\n",
              "      \n",
              "  <style>\n",
              "    .colab-df-container {\n",
              "      display:flex;\n",
              "      flex-wrap:wrap;\n",
              "      gap: 12px;\n",
              "    }\n",
              "\n",
              "    .colab-df-convert {\n",
              "      background-color: #E8F0FE;\n",
              "      border: none;\n",
              "      border-radius: 50%;\n",
              "      cursor: pointer;\n",
              "      display: none;\n",
              "      fill: #1967D2;\n",
              "      height: 32px;\n",
              "      padding: 0 0 0 0;\n",
              "      width: 32px;\n",
              "    }\n",
              "\n",
              "    .colab-df-convert:hover {\n",
              "      background-color: #E2EBFA;\n",
              "      box-shadow: 0px 1px 2px rgba(60, 64, 67, 0.3), 0px 1px 3px 1px rgba(60, 64, 67, 0.15);\n",
              "      fill: #174EA6;\n",
              "    }\n",
              "\n",
              "    [theme=dark] .colab-df-convert {\n",
              "      background-color: #3B4455;\n",
              "      fill: #D2E3FC;\n",
              "    }\n",
              "\n",
              "    [theme=dark] .colab-df-convert:hover {\n",
              "      background-color: #434B5C;\n",
              "      box-shadow: 0px 1px 3px 1px rgba(0, 0, 0, 0.15);\n",
              "      filter: drop-shadow(0px 1px 2px rgba(0, 0, 0, 0.3));\n",
              "      fill: #FFFFFF;\n",
              "    }\n",
              "  </style>\n",
              "\n",
              "      <script>\n",
              "        const buttonEl =\n",
              "          document.querySelector('#df-1b6392fd-e713-4cbc-819d-ea6206bd421c button.colab-df-convert');\n",
              "        buttonEl.style.display =\n",
              "          google.colab.kernel.accessAllowed ? 'block' : 'none';\n",
              "\n",
              "        async function convertToInteractive(key) {\n",
              "          const element = document.querySelector('#df-1b6392fd-e713-4cbc-819d-ea6206bd421c');\n",
              "          const dataTable =\n",
              "            await google.colab.kernel.invokeFunction('convertToInteractive',\n",
              "                                                     [key], {});\n",
              "          if (!dataTable) return;\n",
              "\n",
              "          const docLinkHtml = 'Like what you see? Visit the ' +\n",
              "            '<a target=\"_blank\" href=https://colab.research.google.com/notebooks/data_table.ipynb>data table notebook</a>'\n",
              "            + ' to learn more about interactive tables.';\n",
              "          element.innerHTML = '';\n",
              "          dataTable['output_type'] = 'display_data';\n",
              "          await google.colab.output.renderOutput(dataTable, element);\n",
              "          const docLink = document.createElement('div');\n",
              "          docLink.innerHTML = docLinkHtml;\n",
              "          element.appendChild(docLink);\n",
              "        }\n",
              "      </script>\n",
              "    </div>\n",
              "  </div>\n",
              "  "
            ]
          },
          "metadata": {},
          "execution_count": 25
        }
      ]
    },
    {
      "cell_type": "code",
      "source": [
        "# Shape of the dataset.\n",
        "print(data.shape)"
      ],
      "metadata": {
        "colab": {
          "base_uri": "https://localhost:8080/"
        },
        "id": "pV_f2IhVu6RV",
        "outputId": "cb87add3-ac2e-4cec-b48e-b488484c9c49"
      },
      "execution_count": null,
      "outputs": [
        {
          "output_type": "stream",
          "name": "stdout",
          "text": [
            "(41188, 21)\n"
          ]
        }
      ]
    },
    {
      "cell_type": "code",
      "source": [
        "# Data Summary.\n",
        "data.info()"
      ],
      "metadata": {
        "id": "zxo-KnR6u6ut"
      },
      "execution_count": null,
      "outputs": []
    },
    {
      "cell_type": "code",
      "metadata": {
        "id": "rFM-JMHmYc-I"
      },
      "source": [
        "# Encode Categorical Data.\n",
        "from sklearn.preprocessing import LabelEncoder\n",
        "\n",
        "le = LabelEncoder()\n",
        "data[\"job\"] = le.fit_transform(data[\"job\"])\n",
        "data[\"marital\"] = le.fit_transform(data[\"marital\"])\n",
        "data[\"education\"] = le.fit_transform(data[\"education\"])\n",
        "data[\"default\"] = le.fit_transform(data[\"default\"])\n",
        "data[\"housing\"] = le.fit_transform(data[\"housing\"])\n",
        "data[\"loan\"] = le.fit_transform(data[\"loan\"])\n",
        "data[\"contact\"] = le.fit_transform(data[\"contact\"])\n",
        "data[\"month\"] = le.fit_transform(data[\"month\"])\n",
        "data[\"day_of_week\"] = le.fit_transform(data[\"day_of_week\"])\n",
        "data[\"poutcome\"] = le.fit_transform(data[\"poutcome\"])\n",
        "data[\"emp.var.rate\"] = le.fit_transform(data[\"emp.var.rate\"])\n",
        "data[\"nr.employed\"] = le.fit_transform(data[\"nr.employed\"])\n",
        "data[\"y\"] = le.fit_transform(data[\"y\"])\n",
        "\n",
        "# Split Dataset into Independent and Dependent Variables.\n",
        "data = data.astype(\"int\")\n",
        "\n",
        "X = data[\n",
        "    [\n",
        "        \"job\",\n",
        "        \"marital\",\n",
        "        \"education\",\n",
        "        \"default\",\n",
        "        \"housing\",\n",
        "        \"loan\",\n",
        "        \"contact\",\n",
        "        \"month\",\n",
        "        \"day_of_week\",\n",
        "        \"poutcome\",\n",
        "        \"emp.var.rate\",\n",
        "        \"nr.employed\",\n",
        "    ]\n",
        "]\n",
        "\n",
        "y = data[[\"y\"]]"
      ],
      "execution_count": null,
      "outputs": []
    },
    {
      "cell_type": "markdown",
      "metadata": {
        "id": "j8JhW4dQmrLp"
      },
      "source": [
        "**Rank every categorical feature's importance based on the Chi-Square Score.**"
      ]
    },
    {
      "cell_type": "code",
      "metadata": {
        "id": "BwgjRQ04hxR2"
      },
      "source": [
        "from sklearn.feature_selection import chi2, SelectKBest\n",
        "\n",
        "chi2_features = chi2(X, y)"
      ],
      "execution_count": null,
      "outputs": []
    },
    {
      "cell_type": "markdown",
      "metadata": {
        "id": "J0LIXVyBl3nb"
      },
      "source": [
        "**Observation: \"$poutcome$\" is the most important column when compared to the output feature \"Yes\".**\n"
      ]
    },
    {
      "cell_type": "code",
      "metadata": {
        "id": "j7s4tvDCk2lj",
        "colab": {
          "base_uri": "https://localhost:8080/"
        },
        "outputId": "4755d68f-7e1b-4010-8fc1-1747f23b4ebc"
      },
      "source": [
        "p_values = pd.Series(chi2_features[1])\n",
        "p_values.index = X.columns\n",
        "p_values.sort_index(ascending=False)"
      ],
      "execution_count": null,
      "outputs": [
        {
          "output_type": "execute_result",
          "data": {
            "text/plain": [
              "poutcome         3.722828e-23\n",
              "nr.employed      0.000000e+00\n",
              "month            1.650559e-01\n",
              "marital          1.348325e-07\n",
              "loan             2.077547e-01\n",
              "job              2.179406e-21\n",
              "housing          2.566075e-02\n",
              "emp.var.rate     0.000000e+00\n",
              "education        2.464796e-38\n",
              "default          5.521476e-72\n",
              "day_of_week      1.380665e-03\n",
              "contact         3.500598e-121\n",
              "dtype: float64"
            ]
          },
          "metadata": {},
          "execution_count": 30
        }
      ]
    },
    {
      "cell_type": "markdown",
      "metadata": {
        "id": "Tws3W44GoWIY"
      },
      "source": [
        "**Select KBest Categorical Features, based on Chi-Square Score.**\n",
        "\n",
        "> [**sklearn.feature_selection.SelectKBest**](https://scikit-learn.org/stable/modules/generated/sklearn.feature_selection.SelectKBest.html#sklearn.feature_selection.SelectKBest)"
      ]
    },
    {
      "cell_type": "code",
      "metadata": {
        "id": "abpFsRU8mcYB"
      },
      "source": [
        "# Select features according to the \"K\" highest scores.\n",
        "select_chi2_features = SelectKBest(chi2, k=9)\n",
        "X_KBest_features = select_chi2_features.fit_transform(X, y)"
      ],
      "execution_count": null,
      "outputs": []
    },
    {
      "cell_type": "code",
      "metadata": {
        "id": "Ep4bx-79p_Rn",
        "colab": {
          "base_uri": "https://localhost:8080/"
        },
        "outputId": "b3f8f7d8-3746-4467-a093-8ec5f944a404"
      },
      "source": [
        "print(\"Original Features Number:\", X.shape[1])\n",
        "print(\"Reduced Features Number:\", X_KBest_features.shape[1])"
      ],
      "execution_count": null,
      "outputs": [
        {
          "output_type": "stream",
          "name": "stdout",
          "text": [
            "Original Features Number: 12\n",
            "Reduced Features Number: 9\n"
          ]
        }
      ]
    }
  ]
}