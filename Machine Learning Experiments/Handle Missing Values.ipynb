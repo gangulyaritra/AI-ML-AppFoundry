{
  "nbformat": 4,
  "nbformat_minor": 0,
  "metadata": {
    "colab": {
      "provenance": []
    },
    "kernelspec": {
      "name": "python3",
      "display_name": "Python 3"
    },
    "language_info": {
      "name": "python"
    }
  },
  "cells": [
    {
      "cell_type": "markdown",
      "metadata": {
        "id": "yaFzKJlJbuPs"
      },
      "source": [
        "# **Methods for Dealing with Missing Values.**"
      ]
    },
    {
      "cell_type": "code",
      "metadata": {
        "id": "j0TMHuUBouKF",
        "colab": {
          "base_uri": "https://localhost:8080/",
          "height": 206
        },
        "outputId": "4a05f3fd-af60-458f-eeb1-6d8645dcd203"
      },
      "source": [
        "# Import Library.\n",
        "import pandas as pd\n",
        "import numpy as np\n",
        "import warnings\n",
        "\n",
        "warnings.filterwarnings(\"ignore\")\n",
        "\n",
        "# Load Dataset.\n",
        "data = pd.read_csv(\n",
        "    \"http://www.creditriskanalytics.net/uploads/1/9/5/1/19511601/hmeq.csv\"\n",
        ")\n",
        "data.head()"
      ],
      "execution_count": null,
      "outputs": [
        {
          "output_type": "execute_result",
          "data": {
            "text/plain": [
              "   BAD  LOAN  MORTDUE     VALUE   REASON     JOB   YOJ  DEROG  DELINQ  \\\n",
              "0    1  1100  25860.0   39025.0  HomeImp   Other  10.5    0.0     0.0   \n",
              "1    1  1300  70053.0   68400.0  HomeImp   Other   7.0    0.0     2.0   \n",
              "2    1  1500  13500.0   16700.0  HomeImp   Other   4.0    0.0     0.0   \n",
              "3    1  1500      NaN       NaN      NaN     NaN   NaN    NaN     NaN   \n",
              "4    0  1700  97800.0  112000.0  HomeImp  Office   3.0    0.0     0.0   \n",
              "\n",
              "        CLAGE  NINQ  CLNO  DEBTINC  \n",
              "0   94.366667   1.0   9.0      NaN  \n",
              "1  121.833333   0.0  14.0      NaN  \n",
              "2  149.466667   1.0  10.0      NaN  \n",
              "3         NaN   NaN   NaN      NaN  \n",
              "4   93.333333   0.0  14.0      NaN  "
            ],
            "text/html": [
              "\n",
              "  <div id=\"df-0f961c61-8e86-4b95-b06d-f8ae1f579989\">\n",
              "    <div class=\"colab-df-container\">\n",
              "      <div>\n",
              "<style scoped>\n",
              "    .dataframe tbody tr th:only-of-type {\n",
              "        vertical-align: middle;\n",
              "    }\n",
              "\n",
              "    .dataframe tbody tr th {\n",
              "        vertical-align: top;\n",
              "    }\n",
              "\n",
              "    .dataframe thead th {\n",
              "        text-align: right;\n",
              "    }\n",
              "</style>\n",
              "<table border=\"1\" class=\"dataframe\">\n",
              "  <thead>\n",
              "    <tr style=\"text-align: right;\">\n",
              "      <th></th>\n",
              "      <th>BAD</th>\n",
              "      <th>LOAN</th>\n",
              "      <th>MORTDUE</th>\n",
              "      <th>VALUE</th>\n",
              "      <th>REASON</th>\n",
              "      <th>JOB</th>\n",
              "      <th>YOJ</th>\n",
              "      <th>DEROG</th>\n",
              "      <th>DELINQ</th>\n",
              "      <th>CLAGE</th>\n",
              "      <th>NINQ</th>\n",
              "      <th>CLNO</th>\n",
              "      <th>DEBTINC</th>\n",
              "    </tr>\n",
              "  </thead>\n",
              "  <tbody>\n",
              "    <tr>\n",
              "      <th>0</th>\n",
              "      <td>1</td>\n",
              "      <td>1100</td>\n",
              "      <td>25860.0</td>\n",
              "      <td>39025.0</td>\n",
              "      <td>HomeImp</td>\n",
              "      <td>Other</td>\n",
              "      <td>10.5</td>\n",
              "      <td>0.0</td>\n",
              "      <td>0.0</td>\n",
              "      <td>94.366667</td>\n",
              "      <td>1.0</td>\n",
              "      <td>9.0</td>\n",
              "      <td>NaN</td>\n",
              "    </tr>\n",
              "    <tr>\n",
              "      <th>1</th>\n",
              "      <td>1</td>\n",
              "      <td>1300</td>\n",
              "      <td>70053.0</td>\n",
              "      <td>68400.0</td>\n",
              "      <td>HomeImp</td>\n",
              "      <td>Other</td>\n",
              "      <td>7.0</td>\n",
              "      <td>0.0</td>\n",
              "      <td>2.0</td>\n",
              "      <td>121.833333</td>\n",
              "      <td>0.0</td>\n",
              "      <td>14.0</td>\n",
              "      <td>NaN</td>\n",
              "    </tr>\n",
              "    <tr>\n",
              "      <th>2</th>\n",
              "      <td>1</td>\n",
              "      <td>1500</td>\n",
              "      <td>13500.0</td>\n",
              "      <td>16700.0</td>\n",
              "      <td>HomeImp</td>\n",
              "      <td>Other</td>\n",
              "      <td>4.0</td>\n",
              "      <td>0.0</td>\n",
              "      <td>0.0</td>\n",
              "      <td>149.466667</td>\n",
              "      <td>1.0</td>\n",
              "      <td>10.0</td>\n",
              "      <td>NaN</td>\n",
              "    </tr>\n",
              "    <tr>\n",
              "      <th>3</th>\n",
              "      <td>1</td>\n",
              "      <td>1500</td>\n",
              "      <td>NaN</td>\n",
              "      <td>NaN</td>\n",
              "      <td>NaN</td>\n",
              "      <td>NaN</td>\n",
              "      <td>NaN</td>\n",
              "      <td>NaN</td>\n",
              "      <td>NaN</td>\n",
              "      <td>NaN</td>\n",
              "      <td>NaN</td>\n",
              "      <td>NaN</td>\n",
              "      <td>NaN</td>\n",
              "    </tr>\n",
              "    <tr>\n",
              "      <th>4</th>\n",
              "      <td>0</td>\n",
              "      <td>1700</td>\n",
              "      <td>97800.0</td>\n",
              "      <td>112000.0</td>\n",
              "      <td>HomeImp</td>\n",
              "      <td>Office</td>\n",
              "      <td>3.0</td>\n",
              "      <td>0.0</td>\n",
              "      <td>0.0</td>\n",
              "      <td>93.333333</td>\n",
              "      <td>0.0</td>\n",
              "      <td>14.0</td>\n",
              "      <td>NaN</td>\n",
              "    </tr>\n",
              "  </tbody>\n",
              "</table>\n",
              "</div>\n",
              "      <button class=\"colab-df-convert\" onclick=\"convertToInteractive('df-0f961c61-8e86-4b95-b06d-f8ae1f579989')\"\n",
              "              title=\"Convert this dataframe to an interactive table.\"\n",
              "              style=\"display:none;\">\n",
              "        \n",
              "  <svg xmlns=\"http://www.w3.org/2000/svg\" height=\"24px\"viewBox=\"0 0 24 24\"\n",
              "       width=\"24px\">\n",
              "    <path d=\"M0 0h24v24H0V0z\" fill=\"none\"/>\n",
              "    <path d=\"M18.56 5.44l.94 2.06.94-2.06 2.06-.94-2.06-.94-.94-2.06-.94 2.06-2.06.94zm-11 1L8.5 8.5l.94-2.06 2.06-.94-2.06-.94L8.5 2.5l-.94 2.06-2.06.94zm10 10l.94 2.06.94-2.06 2.06-.94-2.06-.94-.94-2.06-.94 2.06-2.06.94z\"/><path d=\"M17.41 7.96l-1.37-1.37c-.4-.4-.92-.59-1.43-.59-.52 0-1.04.2-1.43.59L10.3 9.45l-7.72 7.72c-.78.78-.78 2.05 0 2.83L4 21.41c.39.39.9.59 1.41.59.51 0 1.02-.2 1.41-.59l7.78-7.78 2.81-2.81c.8-.78.8-2.07 0-2.86zM5.41 20L4 18.59l7.72-7.72 1.47 1.35L5.41 20z\"/>\n",
              "  </svg>\n",
              "      </button>\n",
              "      \n",
              "  <style>\n",
              "    .colab-df-container {\n",
              "      display:flex;\n",
              "      flex-wrap:wrap;\n",
              "      gap: 12px;\n",
              "    }\n",
              "\n",
              "    .colab-df-convert {\n",
              "      background-color: #E8F0FE;\n",
              "      border: none;\n",
              "      border-radius: 50%;\n",
              "      cursor: pointer;\n",
              "      display: none;\n",
              "      fill: #1967D2;\n",
              "      height: 32px;\n",
              "      padding: 0 0 0 0;\n",
              "      width: 32px;\n",
              "    }\n",
              "\n",
              "    .colab-df-convert:hover {\n",
              "      background-color: #E2EBFA;\n",
              "      box-shadow: 0px 1px 2px rgba(60, 64, 67, 0.3), 0px 1px 3px 1px rgba(60, 64, 67, 0.15);\n",
              "      fill: #174EA6;\n",
              "    }\n",
              "\n",
              "    [theme=dark] .colab-df-convert {\n",
              "      background-color: #3B4455;\n",
              "      fill: #D2E3FC;\n",
              "    }\n",
              "\n",
              "    [theme=dark] .colab-df-convert:hover {\n",
              "      background-color: #434B5C;\n",
              "      box-shadow: 0px 1px 3px 1px rgba(0, 0, 0, 0.15);\n",
              "      filter: drop-shadow(0px 1px 2px rgba(0, 0, 0, 0.3));\n",
              "      fill: #FFFFFF;\n",
              "    }\n",
              "  </style>\n",
              "\n",
              "      <script>\n",
              "        const buttonEl =\n",
              "          document.querySelector('#df-0f961c61-8e86-4b95-b06d-f8ae1f579989 button.colab-df-convert');\n",
              "        buttonEl.style.display =\n",
              "          google.colab.kernel.accessAllowed ? 'block' : 'none';\n",
              "\n",
              "        async function convertToInteractive(key) {\n",
              "          const element = document.querySelector('#df-0f961c61-8e86-4b95-b06d-f8ae1f579989');\n",
              "          const dataTable =\n",
              "            await google.colab.kernel.invokeFunction('convertToInteractive',\n",
              "                                                     [key], {});\n",
              "          if (!dataTable) return;\n",
              "\n",
              "          const docLinkHtml = 'Like what you see? Visit the ' +\n",
              "            '<a target=\"_blank\" href=https://colab.research.google.com/notebooks/data_table.ipynb>data table notebook</a>'\n",
              "            + ' to learn more about interactive tables.';\n",
              "          element.innerHTML = '';\n",
              "          dataTable['output_type'] = 'display_data';\n",
              "          await google.colab.output.renderOutput(dataTable, element);\n",
              "          const docLink = document.createElement('div');\n",
              "          docLink.innerHTML = docLinkHtml;\n",
              "          element.appendChild(docLink);\n",
              "        }\n",
              "      </script>\n",
              "    </div>\n",
              "  </div>\n",
              "  "
            ]
          },
          "metadata": {},
          "execution_count": 1
        }
      ]
    },
    {
      "cell_type": "code",
      "source": [
        "# Copy Dataframe.\n",
        "df_copy = data.copy()"
      ],
      "metadata": {
        "id": "SLzi4LtPDAPv"
      },
      "execution_count": null,
      "outputs": []
    },
    {
      "cell_type": "code",
      "metadata": {
        "id": "-94rWjh-rF70",
        "colab": {
          "base_uri": "https://localhost:8080/"
        },
        "outputId": "40142625-3a23-497b-96f2-8b311971f999"
      },
      "source": [
        "# Check for Missing Values.\n",
        "print(data.isnull().sum())"
      ],
      "execution_count": null,
      "outputs": [
        {
          "output_type": "stream",
          "name": "stdout",
          "text": [
            "BAD           0\n",
            "LOAN          0\n",
            "MORTDUE     518\n",
            "VALUE       112\n",
            "REASON      252\n",
            "JOB         279\n",
            "YOJ         515\n",
            "DEROG       708\n",
            "DELINQ      580\n",
            "CLAGE       308\n",
            "NINQ        510\n",
            "CLNO        222\n",
            "DEBTINC    1267\n",
            "dtype: int64\n"
          ]
        }
      ]
    },
    {
      "cell_type": "markdown",
      "metadata": {
        "id": "yQD4TtoAq9vQ"
      },
      "source": [
        "### **Delete Rows (or Columns) with Missing Values.**"
      ]
    },
    {
      "cell_type": "code",
      "metadata": {
        "id": "lzSprCmAyqhq",
        "colab": {
          "base_uri": "https://localhost:8080/"
        },
        "outputId": "aa812078-57f4-424e-cea2-62ca8ea3126a"
      },
      "source": [
        "# Delete Entire Column (Feature) with Missing Values.\n",
        "del df_copy[\"DEBTINC\"]\n",
        "print(df_copy.isnull().sum())\n",
        "print(df_copy.shape)"
      ],
      "execution_count": null,
      "outputs": [
        {
          "output_type": "stream",
          "name": "stdout",
          "text": [
            "BAD          0\n",
            "LOAN         0\n",
            "MORTDUE    518\n",
            "VALUE      112\n",
            "REASON     252\n",
            "JOB        279\n",
            "YOJ        515\n",
            "DEROG      708\n",
            "DELINQ     580\n",
            "CLAGE      308\n",
            "NINQ       510\n",
            "CLNO       222\n",
            "dtype: int64\n",
            "(5960, 12)\n"
          ]
        }
      ]
    },
    {
      "cell_type": "code",
      "metadata": {
        "id": "X7Y3_y7Pu8fH",
        "colab": {
          "base_uri": "https://localhost:8080/"
        },
        "outputId": "763b3ae7-0506-42e3-fa11-e3d6c1c5fd62"
      },
      "source": [
        "# Delete Rows with Missing Values.\n",
        "df_copy.dropna(inplace=True)\n",
        "print(df_copy.isnull().sum())\n",
        "print(df_copy.shape)"
      ],
      "execution_count": null,
      "outputs": [
        {
          "output_type": "stream",
          "name": "stdout",
          "text": [
            "BAD        0\n",
            "LOAN       0\n",
            "MORTDUE    0\n",
            "VALUE      0\n",
            "REASON     0\n",
            "JOB        0\n",
            "YOJ        0\n",
            "DEROG      0\n",
            "DELINQ     0\n",
            "CLAGE      0\n",
            "NINQ       0\n",
            "CLNO       0\n",
            "dtype: int64\n",
            "(4247, 12)\n"
          ]
        }
      ]
    },
    {
      "cell_type": "markdown",
      "metadata": {
        "id": "Gu955L9x0PL4"
      },
      "source": [
        "### **Impute Missing Values with Mean, Median, and Mode.**"
      ]
    },
    {
      "cell_type": "code",
      "metadata": {
        "id": "Yhr3LaKF3LTx",
        "colab": {
          "base_uri": "https://localhost:8080/"
        },
        "outputId": "e1254e15-df14-422b-9fde-793bf9b8de7c"
      },
      "source": [
        "\"\"\" Imputation Using the Mean Values. \"\"\"\n",
        "\n",
        "# Copy Dataframe.\n",
        "df_mean_impute = data.copy()\n",
        "\n",
        "\"\"\" Replace missing values using Mean Imputation. \"\"\"\n",
        "# df_mean_impute[\"CLNO\"].fillna(df_mean_impute[\"CLNO\"].mean())\n",
        "\n",
        "df_mean_impute = df_mean_impute.fillna(df_mean_impute.mean())\n",
        "print(df_mean_impute.isnull().sum())\n",
        "print(df_mean_impute.shape)"
      ],
      "execution_count": null,
      "outputs": [
        {
          "output_type": "stream",
          "name": "stdout",
          "text": [
            "BAD          0\n",
            "LOAN         0\n",
            "MORTDUE      0\n",
            "VALUE        0\n",
            "REASON     252\n",
            "JOB        279\n",
            "YOJ          0\n",
            "DEROG        0\n",
            "DELINQ       0\n",
            "CLAGE        0\n",
            "NINQ         0\n",
            "CLNO         0\n",
            "DEBTINC      0\n",
            "dtype: int64\n",
            "(5960, 13)\n"
          ]
        }
      ]
    },
    {
      "cell_type": "code",
      "metadata": {
        "id": "PUHPuj679Zz1",
        "colab": {
          "base_uri": "https://localhost:8080/"
        },
        "outputId": "c9b6bbec-53ce-4721-f82f-0aa504c0bbaf"
      },
      "source": [
        "\"\"\" Imputation Using the Median Values. \"\"\"\n",
        "\n",
        "# Copy Dataframe.\n",
        "df_median_impute = data.copy()\n",
        "\n",
        "\"\"\" Replace missing values using Median Imputation. \"\"\"\n",
        "# df_median_impute[\"CLNO\"].fillna(df_median_impute[\"CLNO\"].mean())\n",
        "\n",
        "df_median_impute = df_median_impute.fillna(df_median_impute.median())\n",
        "print(df_median_impute.isnull().sum())\n",
        "print(df_median_impute.shape)"
      ],
      "execution_count": null,
      "outputs": [
        {
          "output_type": "stream",
          "name": "stdout",
          "text": [
            "BAD          0\n",
            "LOAN         0\n",
            "MORTDUE      0\n",
            "VALUE        0\n",
            "REASON     252\n",
            "JOB        279\n",
            "YOJ          0\n",
            "DEROG        0\n",
            "DELINQ       0\n",
            "CLAGE        0\n",
            "NINQ         0\n",
            "CLNO         0\n",
            "DEBTINC      0\n",
            "dtype: int64\n",
            "(5960, 13)\n"
          ]
        }
      ]
    },
    {
      "cell_type": "code",
      "metadata": {
        "id": "EBEWQrby9xuB",
        "colab": {
          "base_uri": "https://localhost:8080/"
        },
        "outputId": "b41a50e1-c357-47f1-d7f7-d5ea688050c5"
      },
      "source": [
        "\"\"\" Imputation Using the Mode Values. \"\"\"\n",
        "\n",
        "# Copy Dataframe.\n",
        "df_mode_impute = data.copy()\n",
        "\n",
        "\"\"\" Replace missing values using Mode Imputation. \"\"\"\n",
        "# df_mode_impute[\"CLNO\"].fillna(df_mode_impute[\"CLNO\"].mean())\n",
        "\n",
        "df_mode_impute = df_mode_impute.fillna(df_mode_impute.mode())\n",
        "print(df_mode_impute.isnull().sum())\n",
        "print(df_mode_impute.shape)"
      ],
      "execution_count": null,
      "outputs": [
        {
          "output_type": "stream",
          "name": "stdout",
          "text": [
            "BAD          0\n",
            "LOAN         0\n",
            "MORTDUE    518\n",
            "VALUE      112\n",
            "REASON     252\n",
            "JOB        279\n",
            "YOJ        515\n",
            "DEROG      708\n",
            "DELINQ     580\n",
            "CLAGE      308\n",
            "NINQ       510\n",
            "CLNO       222\n",
            "DEBTINC    226\n",
            "dtype: int64\n",
            "(5960, 13)\n"
          ]
        }
      ]
    },
    {
      "cell_type": "markdown",
      "metadata": {
        "id": "i7hYzoUr-0jr"
      },
      "source": [
        "### **Imputation Method for Categorical Columns (Assigning An Unique Category).**"
      ]
    },
    {
      "cell_type": "code",
      "metadata": {
        "id": "X4xhSwvu-5kH",
        "colab": {
          "base_uri": "https://localhost:8080/"
        },
        "outputId": "671d5ef6-de5d-43b6-bfd1-42764644d2fb"
      },
      "source": [
        "\"\"\" Imputation Using (Zero/Constant) Values. \"\"\"\n",
        "\n",
        "# Copy Dataframe.\n",
        "df_constant_impute = data.copy()\n",
        "\n",
        "\"\"\" Replace missing values using Constant Imputation. \"\"\"\n",
        "# df_constant_impute[\"REASON\"].fillna(\"NA\")\n",
        "\n",
        "\"\"\" Replace missing values with a number. \"\"\"\n",
        "df_constant_impute = df_constant_impute.fillna(0)\n",
        "print(df_constant_impute.isnull().sum())\n",
        "print(df_constant_impute.shape)"
      ],
      "execution_count": null,
      "outputs": [
        {
          "output_type": "stream",
          "name": "stdout",
          "text": [
            "BAD        0\n",
            "LOAN       0\n",
            "MORTDUE    0\n",
            "VALUE      0\n",
            "REASON     0\n",
            "JOB        0\n",
            "YOJ        0\n",
            "DEROG      0\n",
            "DELINQ     0\n",
            "CLAGE      0\n",
            "NINQ       0\n",
            "CLNO       0\n",
            "DEBTINC    0\n",
            "dtype: int64\n",
            "(5960, 13)\n"
          ]
        }
      ]
    },
    {
      "cell_type": "markdown",
      "metadata": {
        "id": "6QvjrDZ-Flgo"
      },
      "source": [
        "## **Using Algorithms that support Missing Values.**"
      ]
    },
    {
      "cell_type": "code",
      "metadata": {
        "id": "6v41Kh_RVrzT"
      },
      "source": [
        "from sklearn.impute import SimpleImputer, KNNImputer\n",
        "\n",
        "\n",
        "def impute(X, method=\"none\"):\n",
        "    if method == \"none\":\n",
        "        return pd.DataFrame(X)\n",
        "    if method == \"drop\":\n",
        "        X = X.drop(\"DEBTINC\", axis=1).values\n",
        "        return pd.DataFrame(X)\n",
        "    if method == \"constant\":\n",
        "        imp = SimpleImputer(strategy=\"constant\")\n",
        "    if method == \"mean\":\n",
        "        imp = SimpleImputer(strategy=\"mean\")\n",
        "    if method == \"median\":\n",
        "        imp = SimpleImputer(strategy=\"median\")\n",
        "    if method == \"most_frequent\":\n",
        "        imp = SimpleImputer(strategy=\"most_frequent\")\n",
        "    if method == \"knn\":\n",
        "        imp = KNNImputer(n_neighbors=5)\n",
        "\n",
        "    imp.fit(X)\n",
        "    return pd.DataFrame(imp.transform(X))"
      ],
      "execution_count": null,
      "outputs": []
    },
    {
      "cell_type": "code",
      "metadata": {
        "id": "I4WFJvIdYmj3",
        "colab": {
          "base_uri": "https://localhost:8080/"
        },
        "outputId": "ac5137eb-63aa-4cf9-aa26-5e3b79768dfb"
      },
      "source": [
        "slc = [1, 2, 3, 6, 7, 8, 9, 10, 11]\n",
        "features = pd.DataFrame(data.values[:, slc], data.index, data.columns[slc]).values\n",
        "features_impute = impute(features, \"knn\")\n",
        "\n",
        "print(features_impute.isnull().sum())\n",
        "print(features_impute.shape)"
      ],
      "execution_count": null,
      "outputs": [
        {
          "output_type": "stream",
          "name": "stdout",
          "text": [
            "0    0\n",
            "1    0\n",
            "2    0\n",
            "3    0\n",
            "4    0\n",
            "5    0\n",
            "6    0\n",
            "7    0\n",
            "8    0\n",
            "dtype: int64\n",
            "(5960, 9)\n"
          ]
        }
      ]
    },
    {
      "cell_type": "markdown",
      "source": [
        "## **Imputation using Multivariate Imputation by Chained Equation (MICE).**\n",
        "\n",
        "MICE is a method for replacing missing data values in data collection via multiple imputations."
      ],
      "metadata": {
        "id": "LW7tOfd-hdVi"
      }
    },
    {
      "cell_type": "code",
      "source": [
        "# Import Library.\n",
        "import seaborn as sns\n",
        "from sklearn.experimental import enable_iterative_imputer\n",
        "from sklearn.impute import IterativeImputer\n",
        "\n",
        "# Load Dataset.\n",
        "data = sns.load_dataset(\"titanic\")\n",
        "\n",
        "# Feature Engineering.\n",
        "data = data[[\"survived\", \"pclass\", \"sex\", \"age\", \"sibsp\", \"parch\", \"fare\"]]\n",
        "data[\"sex\"] = [1 if x == \"male\" else 0 for x in data[\"sex\"]]\n",
        "data.head()\n",
        "\n",
        "# Handling Missing Values.\n",
        "imputer = IterativeImputer(\n",
        "    imputation_order=\"ascending\", max_iter=10, random_state=42, n_nearest_features=5\n",
        ")\n",
        "imputed_dataset = imputer.fit_transform(data)"
      ],
      "metadata": {
        "id": "Vv-qyB8AiLVf"
      },
      "execution_count": null,
      "outputs": []
    }
  ]
}